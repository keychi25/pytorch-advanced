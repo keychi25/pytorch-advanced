{
 "metadata": {
  "language_info": {
   "codemirror_mode": {
    "name": "ipython",
    "version": 3
   },
   "file_extension": ".py",
   "mimetype": "text/x-python",
   "name": "python",
   "nbconvert_exporter": "python",
   "pygments_lexer": "ipython3",
   "version": "3.6.12-final"
  },
  "orig_nbformat": 2,
  "kernelspec": {
   "name": "python3",
   "display_name": "Python 3.6.12 64-bit ('pytorch_p36': conda)",
   "metadata": {
    "interpreter": {
     "hash": "b32c976f4cff9f05e2fcc2f59241d4b3454b6c3c855c347bb189d25082248dc6"
    }
   }
  }
 },
 "nbformat": 4,
 "nbformat_minor": 2,
 "cells": [
  {
   "cell_type": "code",
   "execution_count": 1,
   "metadata": {},
   "outputs": [
    {
     "output_type": "stream",
     "name": "stdout",
     "text": [
      "機械\t名詞,一般,*,*,*,*,機械,キカイ,キカイ\n学習\t名詞,サ変接続,*,*,*,*,学習,ガクシュウ,ガクシュー\nが\t助詞,格助詞,一般,*,*,*,が,ガ,ガ\n好き\t名詞,形容動詞語幹,*,*,*,*,好き,スキ,スキ\nです\t助動詞,*,*,*,特殊・デス,基本形,です,デス,デス\n。\t記号,句点,*,*,*,*,。,。,。\n"
     ]
    }
   ],
   "source": [
    "from janome.tokenizer import Tokenizer\n",
    "\n",
    "j_t = Tokenizer()\n",
    "text = '機械学習が好きです。'\n",
    "\n",
    "for token in j_t.tokenize(text):\n",
    "    print(token)"
   ]
  },
  {
   "cell_type": "code",
   "execution_count": 2,
   "metadata": {},
   "outputs": [
    {
     "output_type": "stream",
     "name": "stdout",
     "text": [
      "['機械', '学習', 'が', '好き', 'です', '。']\n"
     ]
    }
   ],
   "source": [
    "# 単語分割する関数を定義\n",
    "\n",
    "def tokenizer_janome(text):\n",
    "    return [tok for tok in j_t.tokenize(text, wakati=True)]\n",
    "\n",
    "text = '機械学習が好きです。'\n",
    "print(tokenizer_janome(text))"
   ]
  },
  {
   "cell_type": "code",
   "execution_count": 3,
   "metadata": {},
   "outputs": [
    {
     "output_type": "stream",
     "name": "stdout",
     "text": [
      "機械\tキカイ\tキカイ\t機械\t名詞-普通名詞-一般\t\t\t2\n学習\tガクシュー\tガクシュウ\t学習\t名詞-普通名詞-サ変可能\t\t\t0\nが\tガ\tガ\tが\t助詞-格助詞\t\t\t\n好き\tスキ\tスキ\t好き\t形状詞-一般\t\t\t2\nです\tデス\tデス\tです\t助動詞\t助動詞-デス\t終止形-一般\t\n。\t\t\t。\t補助記号-句点\t\t\t\nEOS\n\n"
     ]
    }
   ],
   "source": [
    "import MeCab\n",
    "\n",
    "m_t = MeCab.Tagger('')\n",
    "\n",
    "text = '機械学習が好きです。'\n",
    "print(m_t.parse(text))"
   ]
  },
  {
   "cell_type": "code",
   "execution_count": 4,
   "metadata": {},
   "outputs": [
    {
     "output_type": "stream",
     "name": "stdout",
     "text": [
      "機械学習\tキカイガクシュウ\t機械学習\t名詞-固有名詞-一般\t\t\nが\tガ\tが\t助詞-格助詞-一般\t\t\n好き\tスキ\t好き\t名詞-形容動詞語幹\t\t\nです\tデス\tです\t助動詞\t特殊・デス\t基本形\n。\t。\t。\t記号-句点\t\t\nEOS\n\n"
     ]
    }
   ],
   "source": [
    "import MeCab\n",
    "\n",
    "m_t = MeCab.Tagger('-Ochasen -d /usr/lib/x86_64-linux-gnu/mecab/dic/mecab-ipadic-neologd')\n",
    "\n",
    "text = '機械学習が好きです。'\n",
    "print(m_t.parse(text))"
   ]
  },
  {
   "cell_type": "code",
   "execution_count": 5,
   "metadata": {},
   "outputs": [
    {
     "output_type": "stream",
     "name": "stdout",
     "text": [
      "['機械学習', 'が', '好き', 'です', '。']\n"
     ]
    }
   ],
   "source": [
    "m_t = MeCab.Tagger('-Owakati -d  /usr/lib/x86_64-linux-gnu/mecab/dic/mecab-ipadic-neologd')\n",
    "\n",
    "\n",
    "def tokenizer_mecab(text):\n",
    "    text = m_t.parse(text)  # これでスペースで単語が区切られる\n",
    "    ret = text.strip().split()  # スペース部分で区切ったリストに変換\n",
    "    return ret\n",
    "\n",
    "\n",
    "text = '機械学習が好きです。'\n",
    "print(tokenizer_mecab(text))"
   ]
  },
  {
   "cell_type": "code",
   "execution_count": null,
   "metadata": {},
   "outputs": [],
   "source": []
  }
 ]
}