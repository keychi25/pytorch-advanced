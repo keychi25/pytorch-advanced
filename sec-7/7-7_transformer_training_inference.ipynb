{
 "metadata": {
  "language_info": {
   "codemirror_mode": {
    "name": "ipython",
    "version": 3
   },
   "file_extension": ".py",
   "mimetype": "text/x-python",
   "name": "python",
   "nbconvert_exporter": "python",
   "pygments_lexer": "ipython3",
   "version": "3.6.12-final"
  },
  "orig_nbformat": 2,
  "kernelspec": {
   "name": "python3",
   "display_name": "Python 3",
   "language": "python"
  }
 },
 "nbformat": 4,
 "nbformat_minor": 2,
 "cells": [
  {
   "source": [
    "# Transformerの学習・推論、判定根拠の可視化を実装"
   ],
   "cell_type": "markdown",
   "metadata": {}
  },
  {
   "cell_type": "code",
   "execution_count": 1,
   "metadata": {},
   "outputs": [],
   "source": [
    "import numpy as np\n",
    "import random\n",
    "\n",
    "import torch\n",
    "import torch.nn as nn\n",
    "import torch.optim as optim\n",
    "\n",
    "import torchtext"
   ]
  },
  {
   "cell_type": "code",
   "execution_count": 2,
   "metadata": {},
   "outputs": [],
   "source": [
    "# 乱数のシードを設定\n",
    "torch.manual_seed(1234)\n",
    "np.random.seed(1234)\n",
    "random.seed(1234)"
   ]
  },
  {
   "source": [
    "## Dataset，DataLoderの作成"
   ],
   "cell_type": "markdown",
   "metadata": {}
  },
  {
   "cell_type": "code",
   "execution_count": 3,
   "metadata": {},
   "outputs": [],
   "source": [
    "from utils.dataloader import get_IMDb_DataLoaders_and_TEXT\n",
    "\n",
    "# 読み込み\n",
    "train_dl, val_dl, test_dl, TEXT = get_IMDb_DataLoaders_and_TEXT(\n",
    "    max_length=256, batch_size=64)\n",
    "\n",
    "# 辞書オブジェクトにまとめる\n",
    "dataloaders_dict = {\"train\": train_dl, \"val\": val_dl}"
   ]
  },
  {
   "source": [
    "## ネットワークモデルの作成"
   ],
   "cell_type": "markdown",
   "metadata": {}
  },
  {
   "cell_type": "code",
   "execution_count": 4,
   "metadata": {},
   "outputs": [
    {
     "output_type": "stream",
     "name": "stdout",
     "text": [
      "ネットワーク設定完了\n"
     ]
    }
   ],
   "source": [
    "from utils.transformer import TransformerClassification\n",
    "\n",
    "# モデル構築\n",
    "net = TransformerClassification(\n",
    "    text_embedding_vectors=TEXT.vocab.vectors, d_model=300, max_seq_len=256, output_dim=2)\n",
    "\n",
    "# ネットワークの初期化を定義\n",
    "def weights_init(m):\n",
    "    classname = m.__class__.__name__\n",
    "    if classname.find('Linear') != -1:\n",
    "        # Liner層の初期化\n",
    "        nn.init.kaiming_normal_(m.weight)\n",
    "        if m.bias is not None:\n",
    "            nn.init.constant_(m.bias, 0.0)\n",
    "\n",
    "\n",
    "# 訓練モードに設定\n",
    "net.train()\n",
    "\n",
    "# TransformerBlockモジュールを初期化実行\n",
    "net.net3_1.apply(weights_init)\n",
    "net.net3_2.apply(weights_init)\n",
    "\n",
    "\n",
    "print('ネットワーク設定完了')"
   ]
  },
  {
   "source": [
    "## 損失関数と最適化手法"
   ],
   "cell_type": "markdown",
   "metadata": {}
  },
  {
   "cell_type": "code",
   "execution_count": 5,
   "metadata": {},
   "outputs": [],
   "source": [
    "# 損失関数の設定\n",
    "criterion = nn.CrossEntropyLoss()\n",
    "# nn.LogSoftmax()を計算してからnn.NLLLoss(negative log likelihood loss)を計算\n",
    "\n",
    "# 最適化手法の設定\n",
    "learning_rate = 2e-5\n",
    "optimizer = optim.Adam(net.parameters(), lr=learning_rate)"
   ]
  },
  {
   "source": [
    "## 学習・検証"
   ],
   "cell_type": "markdown",
   "metadata": {}
  },
  {
   "cell_type": "code",
   "execution_count": 6,
   "metadata": {},
   "outputs": [],
   "source": [
    "def train_model(net, dataloaders_dict, criterion, optimizer, num_epochs):\n",
    "\n",
    "    # GPUが使えるかを確認\n",
    "    device = torch.device(\"cuda:0\" if torch.cuda.is_available() else \"cpu\")\n",
    "    print(\"使用デバイス：\", device)\n",
    "    print('-----start-------')\n",
    "    # ネットワークをGPUへ\n",
    "    net.to(device)\n",
    "\n",
    "    # ネットワークがある程度固定であれば，高速化\n",
    "    torch.backends.cudnn.benchmark = True\n",
    "\n",
    "    # epochのループ\n",
    "    for epoch in range(num_epochs):\n",
    "        # epochごとの訓練と検証のループ\n",
    "        for phase in ['train', 'val']:\n",
    "            if phase == 'train':\n",
    "                net.train()  # モデルを訓練モード\n",
    "            else:\n",
    "                net.eval()   # モデルを検証モード\n",
    "\n",
    "            epoch_loss = 0.0  # epochの損失和\n",
    "            epoch_corrects = 0  # epochの正解数\n",
    "\n",
    "            # データローダーからミニバッチを取り出すループ\n",
    "            for batch in (dataloaders_dict[phase]):\n",
    "                # batchはTextとLableの辞書オブジェクト\n",
    "\n",
    "                # GPUが使えるならGPUにデータを送る\n",
    "                inputs = batch.Text[0].to(device)  # 文章\n",
    "                labels = batch.Label.to(device)  # ラベル\n",
    "\n",
    "                # optimizerを初期化\n",
    "                optimizer.zero_grad()\n",
    "\n",
    "                # 順伝搬（forward）計算\n",
    "                with torch.set_grad_enabled(phase == 'train'):\n",
    "\n",
    "                    # mask作成\n",
    "                    input_pad = 1  # 単語のIDにおいて、'<pad>': 1 \n",
    "                    input_mask = (inputs != input_pad)\n",
    "\n",
    "                    # Transformerに入力\n",
    "                    outputs, _, _ = net(inputs, input_mask)\n",
    "                    loss = criterion(outputs, labels)  # 損失を計算\n",
    "\n",
    "                    _, preds = torch.max(outputs, 1)  # ラベルを予測\n",
    "\n",
    "                    # 訓練時はバックプロパゲーション\n",
    "                    if phase == 'train':\n",
    "                        loss.backward()\n",
    "                        optimizer.step()\n",
    "\n",
    "                    # 結果の計算\n",
    "                    epoch_loss += loss.item() * inputs.size(0)  # lossの合計を更新\n",
    "                    # 正解数の合計を更新\n",
    "                    epoch_corrects += torch.sum(preds == labels.data)\n",
    "\n",
    "            # epochごとのlossと正解率\n",
    "            epoch_loss = epoch_loss / len(dataloaders_dict[phase].dataset)\n",
    "            epoch_acc = epoch_corrects.double(\n",
    "            ) / len(dataloaders_dict[phase].dataset)\n",
    "\n",
    "            print('Epoch {}/{} | {:^5} |  Loss: {:.4f} Acc: {:.4f}'.format(epoch+1, num_epochs,\n",
    "                                                                           phase, epoch_loss, epoch_acc))\n",
    "\n",
    "    return net"
   ]
  },
  {
   "cell_type": "code",
   "execution_count": 7,
   "metadata": {},
   "outputs": [
    {
     "output_type": "stream",
     "name": "stdout",
     "text": [
      "使用デバイス： cuda:0\n",
      "-----start-------\n",
      "Epoch 1/10 | train |  Loss: 0.5955 Acc: 0.6675\n",
      "Epoch 1/10 |  val  |  Loss: 0.4492 Acc: 0.7946\n",
      "Epoch 2/10 | train |  Loss: 0.4398 Acc: 0.7998\n",
      "Epoch 2/10 |  val  |  Loss: 0.4073 Acc: 0.8234\n",
      "Epoch 3/10 | train |  Loss: 0.4036 Acc: 0.8205\n",
      "Epoch 3/10 |  val  |  Loss: 0.3784 Acc: 0.8344\n",
      "Epoch 4/10 | train |  Loss: 0.3835 Acc: 0.8295\n",
      "Epoch 4/10 |  val  |  Loss: 0.3697 Acc: 0.8408\n",
      "Epoch 5/10 | train |  Loss: 0.3668 Acc: 0.8410\n",
      "Epoch 5/10 |  val  |  Loss: 0.3626 Acc: 0.8458\n",
      "Epoch 6/10 | train |  Loss: 0.3573 Acc: 0.8433\n",
      "Epoch 6/10 |  val  |  Loss: 0.3810 Acc: 0.8398\n",
      "Epoch 7/10 | train |  Loss: 0.3467 Acc: 0.8501\n",
      "Epoch 7/10 |  val  |  Loss: 0.3728 Acc: 0.8402\n",
      "Epoch 8/10 | train |  Loss: 0.3410 Acc: 0.8542\n",
      "Epoch 8/10 |  val  |  Loss: 0.3476 Acc: 0.8534\n",
      "Epoch 9/10 | train |  Loss: 0.3304 Acc: 0.8577\n",
      "Epoch 9/10 |  val  |  Loss: 0.3461 Acc: 0.8534\n",
      "Epoch 10/10 | train |  Loss: 0.3274 Acc: 0.8600\n",
      "Epoch 10/10 |  val  |  Loss: 0.3592 Acc: 0.8442\n"
     ]
    }
   ],
   "source": [
    "# 実行\n",
    "num_epochs = 10\n",
    "net_trained = train_model(net, dataloaders_dict,\n",
    "                          criterion, optimizer, num_epochs=num_epochs)"
   ]
  },
  {
   "cell_type": "code",
   "execution_count": 8,
   "metadata": {},
   "outputs": [
    {
     "output_type": "stream",
     "name": "stdout",
     "text": [
      "テストデータ25000個での正解率：0.8452\n"
     ]
    }
   ],
   "source": [
    "#  テストデータでの正解率を求める（検証モード）\n",
    "device = torch.device(\"cuda:0\" if torch.cuda.is_available() else \"cpu\")\n",
    "\n",
    "net_trained.eval()   # モデルを検証モード\n",
    "net_trained.to(device)\n",
    "\n",
    "epoch_corrects = 0  # epochの正解数\n",
    "\n",
    "for batch in (test_dl):  # testデータのDataLoader\n",
    "    # batchはTextとLableの辞書オブジェクト\n",
    "    \n",
    "    # GPUが使えるならGPUにデータを送る\n",
    "    inputs = batch.Text[0].to(device)  # 文章\n",
    "    labels = batch.Label.to(device)  # ラベル\n",
    "\n",
    "    # 順伝搬（forward）計算\n",
    "    with torch.set_grad_enabled(False):\n",
    "\n",
    "        # mask作成\n",
    "        input_pad = 1  # 単語のIDにおいて、'<pad>': 1 \n",
    "        input_mask = (inputs != input_pad)\n",
    "\n",
    "        # Transformerに入力\n",
    "        outputs, _, _ = net_trained(inputs, input_mask)\n",
    "        _, preds = torch.max(outputs, 1)  # ラベルを予測\n",
    "\n",
    "        # 結果の計算\n",
    "        # 正解数の合計を更新\n",
    "        epoch_corrects += torch.sum(preds == labels.data)\n",
    "\n",
    "# 正解率\n",
    "epoch_acc = epoch_corrects.double() / len(test_dl.dataset)\n",
    "\n",
    "print('テストデータ{}個での正解率：{:.4f}'.format(len(test_dl.dataset),epoch_acc))"
   ]
  },
  {
   "source": [
    "## Attentionの可視化で判定根拠を探る"
   ],
   "cell_type": "markdown",
   "metadata": {}
  },
  {
   "cell_type": "code",
   "execution_count": 9,
   "metadata": {},
   "outputs": [],
   "source": [
    "def highlight(word, attn):\n",
    "    \"Attentionの値が大きいと文字の背景が濃い赤になるhtmlを出力させる関数\"\n",
    "\n",
    "    html_color = '#%02X%02X%02X' % (\n",
    "        255, int(255*(1 - attn)), int(255*(1 - attn)))\n",
    "    return '<span style=\"background-color: {}\"> {}</span>'.format(html_color, word)\n",
    "\n",
    "\n",
    "def mk_html(index, batch, preds, normlized_weights_1, normlized_weights_2, TEXT):\n",
    "    \"HTMLデータを作成する\"\n",
    "\n",
    "    # indexの結果を抽出\n",
    "    sentence = batch.Text[0][index]  # 文章\n",
    "    label = batch.Label[index]  # ラベル\n",
    "    pred = preds[index]  # 予測\n",
    "\n",
    "    # indexのAttentionを抽出と規格化\n",
    "    attens1 = normlized_weights_1[index, 0, :]  # 0番目の<cls>のAttention\n",
    "    attens1 /= attens1.max()\n",
    "\n",
    "    attens2 = normlized_weights_2[index, 0, :]  # 0番目の<cls>のAttention\n",
    "    attens2 /= attens2.max()\n",
    "\n",
    "    # ラベルと予測結果を文字に置き換え\n",
    "    if label == 0:\n",
    "        label_str = \"Negative\"\n",
    "    else:\n",
    "        label_str = \"Positive\"\n",
    "\n",
    "    if pred == 0:\n",
    "        pred_str = \"Negative\"\n",
    "    else:\n",
    "        pred_str = \"Positive\"\n",
    "\n",
    "    # 表示用のHTMLを作成する\n",
    "    html = '正解ラベル：{}<br>推論ラベル：{}<br><br>'.format(label_str, pred_str)\n",
    "\n",
    "    # 1段目のAttention\n",
    "    html += '[TransformerBlockの1段目のAttentionを可視化]<br>'\n",
    "    for word, attn in zip(sentence, attens1):\n",
    "        html += highlight(TEXT.vocab.itos[word], attn)\n",
    "    html += \"<br><br>\"\n",
    "\n",
    "    # 2段目のAttention\n",
    "    html += '[TransformerBlockの2段目のAttentionを可視化]<br>'\n",
    "    for word, attn in zip(sentence, attens2):\n",
    "        html += highlight(TEXT.vocab.itos[word], attn)\n",
    "\n",
    "    html += \"<br><br>\"\n",
    "\n",
    "    return html"
   ]
  },
  {
   "source": [
    "from IPython.display import HTML\n",
    "\n",
    "# Transformerで処理\n",
    "\n",
    "# ミニバッチの用意\n",
    "batch = next(iter(test_dl))\n",
    "\n",
    "# GPUが使えるならGPUにデータを送る\n",
    "inputs = batch.Text[0].to(device)  # 文章\n",
    "labels = batch.Label.to(device)  # ラベル\n",
    "\n",
    "# mask作成\n",
    "input_pad = 1  # 単語のIDにおいて、'<pad>': 1 なので\n",
    "input_mask = (inputs != input_pad)\n",
    "\n",
    "# Transformerに入力\n",
    "outputs, normlized_weights_1, normlized_weights_2 = net_trained(\n",
    "    inputs, input_mask)\n",
    "_, preds = torch.max(outputs, 1)  # ラベルを予測\n",
    "\n",
    "\n",
    "index = 3  # 出力させたいデータ\n",
    "html_output = mk_html(index, batch, preds, normlized_weights_1,\n",
    "                      normlized_weights_2, TEXT)  # HTML作成\n",
    "HTML(html_output)  # HTML形式で出力"
   ],
   "cell_type": "code",
   "metadata": {},
   "execution_count": 10,
   "outputs": [
    {
     "output_type": "execute_result",
     "data": {
      "text/plain": [
       "<IPython.core.display.HTML object>"
      ],
      "text/html": "正解ラベル：Positive<br>推論ラベル：Positive<br><br>[TransformerBlockの1段目のAttentionを可視化]<br><span style=\"background-color: #FFF1F1\"> <cls></span><span style=\"background-color: #FFFAFA\"> the</span><span style=\"background-color: #FFF2F2\"> murders</span><span style=\"background-color: #FFFEFE\"> in</span><span style=\"background-color: #FFB7B7\"> opera</span><span style=\"background-color: #FFFAFA\"> are</span><span style=\"background-color: #FFEEEE\"> not</span><span style=\"background-color: #FFDEDE\"> actual</span><span style=\"background-color: #FFF6F6\"> murders</span><span style=\"background-color: #FFFEFE\"> as</span><span style=\"background-color: #FFFCFC\"> much</span><span style=\"background-color: #FFFEFE\"> as</span><span style=\"background-color: #FFFCFC\"> they</span><span style=\"background-color: #FFFAFA\"> are</span><span style=\"background-color: #FFE9E9\"> symbols</span><span style=\"background-color: #FFFCFC\"> of</span><span style=\"background-color: #FFFBFB\"> past</span><span style=\"background-color: #FFB8B8\"> events</span><span style=\"background-color: #FFFEFE\"> and</span><span style=\"background-color: #FFEBEB\"> parts</span><span style=\"background-color: #FFFCFC\"> of</span><span style=\"background-color: #FFFCFC\"> betty</span><span style=\"background-color: #FFFAFA\"> s</span><span style=\"background-color: #FF6464\"> own</span><span style=\"background-color: #FFEEEE\"> fractured</span><span style=\"background-color: #FFF0F0\"> personality</span><span style=\"background-color: #FFFEFE\"> .</span><span style=\"background-color: #FFFEFE\"> in</span><span style=\"background-color: #FFC3C3\"> fact</span><span style=\"background-color: #FFFEFE\"> ,</span><span style=\"background-color: #FFFCFC\"> betty</span><span style=\"background-color: #FFF9F9\"> is</span><span style=\"background-color: #FFFCFC\"> the</span><span style=\"background-color: #FFF3F3\"> same</span><span style=\"background-color: #FFF9F9\"> person</span><span style=\"background-color: #FFF9F9\"> a</span><span style=\"background-color: #FFFDFD\"> male</span><span style=\"background-color: #FFFCFC\"> that</span><span style=\"background-color: #FFFBFB\"> <unk></span><span style=\"background-color: #FFFAFA\"> <unk></span><span style=\"background-color: #FFF8F8\"> is</span><span style=\"background-color: #FFFEFE\"> in</span><span style=\"background-color: #FFF9F9\"> <unk></span><span style=\"background-color: #FFFEFE\"> ,</span><span style=\"background-color: #FFF9F9\"> only</span><span style=\"background-color: #FFFAFA\"> a</span><span style=\"background-color: #FFF7F7\"> decade</span><span style=\"background-color: #FFFEFE\"> later</span><span style=\"background-color: #FFFEFE\"> in</span><span style=\"background-color: #FFFAFA\"> life</span><span style=\"background-color: #FFF7F7\"> <unk></span><span style=\"background-color: #FFE7E7\"> was</span><span style=\"background-color: #FFFAFA\"> a</span><span style=\"background-color: #FFFDFD\"> boy</span><span style=\"background-color: #FFFCFC\"> of</span><span style=\"background-color: #FFFDFD\"> ten</span><span style=\"background-color: #FFFEFE\"> who</span><span style=\"background-color: #FFF4F4\"> befriended</span><span style=\"background-color: #FFFCFC\"> another</span><span style=\"background-color: #FFFCFC\"> boy</span><span style=\"background-color: #FFFAFA\"> of</span><span style=\"background-color: #FFFDFD\"> ten</span><span style=\"background-color: #FFFEFE\"> with</span><span style=\"background-color: #FFF8F8\"> a</span><span style=\"background-color: #FFFEFE\"> more</span><span style=\"background-color: #FFEEEE\"> mild</span><span style=\"background-color: #FFE9E9\"> version</span><span style=\"background-color: #FFFAFA\"> of</span><span style=\"background-color: #FFFBFB\"> his</span><span style=\"background-color: #FF8686\"> own</span><span style=\"background-color: #FFF9F9\"> background</span><span style=\"background-color: #FFFEFE\"> .</span><span style=\"background-color: #FFFCFC\"> it</span><span style=\"background-color: #FF4C4C\"> helps</span><span style=\"background-color: #FFFBFB\"> to</span><span style=\"background-color: #FFF6F6\"> think</span><span style=\"background-color: #FFFBFB\"> of</span><span style=\"background-color: #FFFCFC\"> betty</span><span style=\"background-color: #FFFAFA\"> s</span><span style=\"background-color: #FF2020\"> luxury</span><span style=\"background-color: #FFCECE\"> apartment</span><span style=\"background-color: #FFFEFE\"> as</span><span style=\"background-color: #FFF6F6\"> a</span><span style=\"background-color: #FFFAFA\"> military</span><span style=\"background-color: #FFF3F3\"> <unk></span><span style=\"background-color: #FFF7F7\"> bay</span><span style=\"background-color: #FFFEFE\"> she</span><span style=\"background-color: #FFFDFD\"> spends</span><span style=\"background-color: #FFFDFD\"> most</span><span style=\"background-color: #FFFBFB\"> of</span><span style=\"background-color: #FFFCFC\"> her</span><span style=\"background-color: #FFE9E9\"> time</span><span style=\"background-color: #FFFEFE\"> in</span><span style=\"background-color: #FFFCFC\"> her</span><span style=\"background-color: #FFF9F9\"> bedroom</span><span style=\"background-color: #FFFEFE\"> in</span><span style=\"background-color: #FFEFEF\"> bed</span><span style=\"background-color: #FFFEFE\"> next</span><span style=\"background-color: #FFFCFC\"> to</span><span style=\"background-color: #FFFCFC\"> her</span><span style=\"background-color: #FFE1E1\"> stereo</span><span style=\"background-color: #FFFDFD\"> it</span><span style=\"background-color: #FFEEEE\"> seems</span><span style=\"background-color: #FFFDFD\"> ,</span><span style=\"background-color: #FFFDFD\"> and</span><span style=\"background-color: #FFFDFD\"> other</span><span style=\"background-color: #FFDCDC\"> parts</span><span style=\"background-color: #FFF9F9\"> of</span><span style=\"background-color: #FFFCFC\"> her</span><span style=\"background-color: #FFD6D6\"> apartment</span><span style=\"background-color: #FFC6C6\"> seem</span><span style=\"background-color: #FFF3F3\"> foreign</span><span style=\"background-color: #FFFDFD\"> to</span><span style=\"background-color: #FFFCFC\"> her</span><span style=\"background-color: #FFF7F7\"> somehow</span><span style=\"background-color: #FFFEFE\"> ,</span><span style=\"background-color: #FFFEFE\"> as</span><span style=\"background-color: #FFFCFC\"> though</span><span style=\"background-color: #FFFEFE\"> other</span><span style=\"background-color: #FFFBFB\"> people</span><span style=\"background-color: #FFD7D7\"> live</span><span style=\"background-color: #FFFEFE\"> in</span><span style=\"background-color: #FFFDFD\"> those</span><span style=\"background-color: #FFFEFE\"> other</span><span style=\"background-color: #FFAEAE\"> rooms</span><span style=\"background-color: #FFFEFE\"> .</span><span style=\"background-color: #FFFBFB\"> dario</span><span style=\"background-color: #FFFDFD\"> argento</span><span style=\"background-color: #FFFAFA\"> s</span><span style=\"background-color: #FFE2E2\"> movies</span><span style=\"background-color: #FFD1D1\"> sync</span><span style=\"background-color: #FFFEFE\"> with</span><span style=\"background-color: #FFFBFB\"> a</span><span style=\"background-color: #FFF7F7\"> wide</span><span style=\"background-color: #FFF9F9\"> array</span><span style=\"background-color: #FFFCFC\"> of</span><span style=\"background-color: #FFFCFC\"> rock</span><span style=\"background-color: #FFFAFA\"> music</span><span style=\"background-color: #FFFEFE\"> ,</span><span style=\"background-color: #FFFEFE\"> as</span><span style=\"background-color: #FFFCFC\"> well</span><span style=\"background-color: #FFFEFE\"> as</span><span style=\"background-color: #FFE5E5\"> funk</span><span style=\"background-color: #FFF9F9\"> dario</span><span style=\"background-color: #FFF6F6\"> starts</span><span style=\"background-color: #FFF9F9\"> the</span><span style=\"background-color: #FFEDED\"> <unk></span><span style=\"background-color: #FFFCFC\"> right</span><span style=\"background-color: #FFFEFE\"> at</span><span style=\"background-color: #FFFBFB\"> the</span><span style=\"background-color: #FFF7F7\"> beginning</span><span style=\"background-color: #FFFBFB\"> of</span><span style=\"background-color: #FFF9F9\"> his</span><span style=\"background-color: #FFD0D0\"> films</span><span style=\"background-color: #FFFDFD\"> ,</span><span style=\"background-color: #FFF9F9\"> the</span><span style=\"background-color: #FFFBFB\"> flash</span><span style=\"background-color: #FFFBFB\"> of</span><span style=\"background-color: #FFFCFC\"> the</span><span style=\"background-color: #FFEAEA\"> eye</span><span style=\"background-color: #FFFEFE\"> in</span><span style=\"background-color: #FFB0B0\"> opera</span><span style=\"background-color: #FFFEFE\"> ,</span><span style=\"background-color: #FFFEFE\"> and</span><span style=\"background-color: #FFFBFB\"> the</span><span style=\"background-color: #FFE0E0\"> start</span><span style=\"background-color: #FFFAFA\"> of</span><span style=\"background-color: #FFF8F8\"> a</span><span style=\"background-color: #FFFDFD\"> drum</span><span style=\"background-color: #FFFAFA\"> roll</span><span style=\"background-color: #FFFEFE\"> in</span><span style=\"background-color: #FFFAFA\"> <unk></span><span style=\"background-color: #FFFEFE\"> .</span><span style=\"background-color: #FFFDFD\"> there</span><span style=\"background-color: #FFF8F8\"> are</span><span style=\"background-color: #FFF9F9\"> also</span><span style=\"background-color: #FFAAAA\"> standard</span><span style=\"background-color: #FFDDDD\"> movies</span><span style=\"background-color: #FFFBFB\"> that</span><span style=\"background-color: #FFA8A8\"> opera</span><span style=\"background-color: #FFFEFE\"> and</span><span style=\"background-color: #FFFBFB\"> <unk></span><span style=\"background-color: #FFD5D5\"> sync</span><span style=\"background-color: #FFFEFE\"> with</span><span style=\"background-color: #FFFEFE\"> .</span><span style=\"background-color: #FFFDFD\"> for</span><span style=\"background-color: #FFFBFB\"> example</span><span style=\"background-color: #FFFEFE\"> ,</span><span style=\"background-color: #FFB0B0\"> opera</span><span style=\"background-color: #FFFAFA\"> <unk></span><span style=\"background-color: #FFFEFE\"> with</span><span style=\"background-color: #FFFEFE\"> with</span><span style=\"background-color: #FFF8F8\"> a</span><span style=\"background-color: #FF7D7D\"> record</span><span style=\"background-color: #FF1010\"> album</span><span style=\"background-color: #FFFBFB\"> by</span><span style=\"background-color: #FFFCFC\"> judas</span><span style=\"background-color: #FFFDFD\"> priest</span><span style=\"background-color: #FFEDED\"> called</span><span style=\"background-color: #FFFDFD\"> priest</span><span style=\"background-color: #FFFEFE\"> .</span><span style=\"background-color: #FFFEFE\"> .</span><span style=\"background-color: #FFFEFE\"> .</span><span style=\"background-color: #FFD3D3\"> live</span><span style=\"background-color: #FFFEFE\"> as</span><span style=\"background-color: #FFF3F3\"> does</span><span style=\"background-color: #FFFBFB\"> <unk></span><span style=\"background-color: #FFFEFE\"> ,</span><span style=\"background-color: #FFFEFE\"> and</span><span style=\"background-color: #FFEEEE\"> <unk></span><span style=\"background-color: #FFE7E7\"> <unk></span><span style=\"background-color: #FFFCFC\"> very</span><span style=\"background-color: #FFFAFA\"> well</span><span style=\"background-color: #FFFEFE\"> with</span><span style=\"background-color: #FFF8F8\"> a</span><span style=\"background-color: #FFEFEF\"> kiss</span><span style=\"background-color: #FF7777\"> record</span><span style=\"background-color: #FF0000\"> album</span><span style=\"background-color: #FFF9F9\"> entitled</span><span style=\"background-color: #FFEFEF\"> kiss</span><span style=\"background-color: #FFB7B7\"> alive</span><span style=\"background-color: #FFFCFC\"> ii</span><span style=\"background-color: #FFFEFE\"> .</span><span style=\"background-color: #FFE3E3\"> movies</span><span style=\"background-color: #FFF9F9\"> like</span><span style=\"background-color: #FFBCBC\"> rosemary</span><span style=\"background-color: #FFFAFA\"> s</span><span style=\"background-color: #FFFBFB\"> baby</span><span style=\"background-color: #FFFEFE\"> ,</span><span style=\"background-color: #FFFCFC\"> the</span><span style=\"background-color: #FFFDFD\"> exorcist</span><span style=\"background-color: #FFFEFE\"> ,</span><span style=\"background-color: #FFFCFC\"> the</span><span style=\"background-color: #FFF5F5\"> image</span><span style=\"background-color: #FFFEFE\"> ,</span><span style=\"background-color: #FFFEFE\"> and</span><span style=\"background-color: #FFFAFA\"> the</span><span style=\"background-color: #FFDADA\"> vampire</span><span style=\"background-color: #FFBEBE\"> happening</span><span style=\"background-color: #FFF8F8\"> are</span><span style=\"background-color: #FFD0D0\"> sync</span><span style=\"background-color: #FFE0E0\"> movies</span><span style=\"background-color: #FFFCFC\"> argento</span><span style=\"background-color: #FFE2E2\"> uses</span><span style=\"background-color: #FFFEFE\"> which</span><span style=\"background-color: #FFFCFC\"> deal</span><span style=\"background-color: #FFFEFE\"> with</span><span style=\"background-color: #FFFAFA\"> the</span><span style=\"background-color: #FFEEEE\"> same</span><span style=\"background-color: #FFE5E5\"> subject</span><span style=\"background-color: #FFF5F5\"> matter</span><span style=\"background-color: #FFFEFE\"> as</span><span style=\"background-color: #FFFDFD\"> argento</span><span style=\"background-color: #FFFAFA\"> s</span><span style=\"background-color: #FFDCDC\"> films</span><span style=\"background-color: #FFF5F5\"> <eos></span><br><br>[TransformerBlockの2段目のAttentionを可視化]<br><span style=\"background-color: #FFFEFE\"> <cls></span><span style=\"background-color: #FFFEFE\"> the</span><span style=\"background-color: #FFFEFE\"> murders</span><span style=\"background-color: #FFFEFE\"> in</span><span style=\"background-color: #FFFEFE\"> opera</span><span style=\"background-color: #FFF2F2\"> are</span><span style=\"background-color: #FFF9F9\"> not</span><span style=\"background-color: #FFF7F7\"> actual</span><span style=\"background-color: #FFFEFE\"> murders</span><span style=\"background-color: #FFFDFD\"> as</span><span style=\"background-color: #FFD4D4\"> much</span><span style=\"background-color: #FFFDFD\"> as</span><span style=\"background-color: #FFFDFD\"> they</span><span style=\"background-color: #FFF8F8\"> are</span><span style=\"background-color: #FFFEFE\"> symbols</span><span style=\"background-color: #FFFEFE\"> of</span><span style=\"background-color: #FFFCFC\"> past</span><span style=\"background-color: #FFFEFE\"> events</span><span style=\"background-color: #FFFEFE\"> and</span><span style=\"background-color: #FFFDFD\"> parts</span><span style=\"background-color: #FFFEFE\"> of</span><span style=\"background-color: #FFFEFE\"> betty</span><span style=\"background-color: #FFF5F5\"> s</span><span style=\"background-color: #FFF6F6\"> own</span><span style=\"background-color: #FFD0D0\"> fractured</span><span style=\"background-color: #FFFDFD\"> personality</span><span style=\"background-color: #FFFEFE\"> .</span><span style=\"background-color: #FFFEFE\"> in</span><span style=\"background-color: #FFFEFE\"> fact</span><span style=\"background-color: #FFFDFD\"> ,</span><span style=\"background-color: #FFFEFE\"> betty</span><span style=\"background-color: #FFFBFB\"> is</span><span style=\"background-color: #FFFEFE\"> the</span><span style=\"background-color: #FFFBFB\"> same</span><span style=\"background-color: #FFFDFD\"> person</span><span style=\"background-color: #FFFEFE\"> a</span><span style=\"background-color: #FFFEFE\"> male</span><span style=\"background-color: #FFFEFE\"> that</span><span style=\"background-color: #FFFEFE\"> <unk></span><span style=\"background-color: #FFFEFE\"> <unk></span><span style=\"background-color: #FFFBFB\"> is</span><span style=\"background-color: #FFFEFE\"> in</span><span style=\"background-color: #FFFEFE\"> <unk></span><span style=\"background-color: #FFFDFD\"> ,</span><span style=\"background-color: #FFFEFE\"> only</span><span style=\"background-color: #FFFEFE\"> a</span><span style=\"background-color: #FFFBFB\"> decade</span><span style=\"background-color: #FFFEFE\"> later</span><span style=\"background-color: #FFFEFE\"> in</span><span style=\"background-color: #FFFDFD\"> life</span><span style=\"background-color: #FFFEFE\"> <unk></span><span style=\"background-color: #FFFDFD\"> was</span><span style=\"background-color: #FFFEFE\"> a</span><span style=\"background-color: #FFF8F8\"> boy</span><span style=\"background-color: #FFFEFE\"> of</span><span style=\"background-color: #FFF6F6\"> ten</span><span style=\"background-color: #FFFEFE\"> who</span><span style=\"background-color: #FFFEFE\"> befriended</span><span style=\"background-color: #FFFDFD\"> another</span><span style=\"background-color: #FFF8F8\"> boy</span><span style=\"background-color: #FFFEFE\"> of</span><span style=\"background-color: #FFF6F6\"> ten</span><span style=\"background-color: #FFFEFE\"> with</span><span style=\"background-color: #FFFEFE\"> a</span><span style=\"background-color: #FFFAFA\"> more</span><span style=\"background-color: #FF0000\"> mild</span><span style=\"background-color: #FFFEFE\"> version</span><span style=\"background-color: #FFFEFE\"> of</span><span style=\"background-color: #FFFAFA\"> his</span><span style=\"background-color: #FFFAFA\"> own</span><span style=\"background-color: #FFFEFE\"> background</span><span style=\"background-color: #FFFEFE\"> .</span><span style=\"background-color: #FFFCFC\"> it</span><span style=\"background-color: #FFFDFD\"> helps</span><span style=\"background-color: #FFFEFE\"> to</span><span style=\"background-color: #FFFDFD\"> think</span><span style=\"background-color: #FFFDFD\"> of</span><span style=\"background-color: #FFFEFE\"> betty</span><span style=\"background-color: #FFF5F5\"> s</span><span style=\"background-color: #FFE7E7\"> luxury</span><span style=\"background-color: #FFFEFE\"> apartment</span><span style=\"background-color: #FFFDFD\"> as</span><span style=\"background-color: #FFFEFE\"> a</span><span style=\"background-color: #FFFEFE\"> military</span><span style=\"background-color: #FFFEFE\"> <unk></span><span style=\"background-color: #FFFEFE\"> bay</span><span style=\"background-color: #FFFCFC\"> she</span><span style=\"background-color: #FFE3E3\"> spends</span><span style=\"background-color: #FFDBDB\"> most</span><span style=\"background-color: #FFFEFE\"> of</span><span style=\"background-color: #FFFDFD\"> her</span><span style=\"background-color: #FFFCFC\"> time</span><span style=\"background-color: #FFFEFE\"> in</span><span style=\"background-color: #FFFCFC\"> her</span><span style=\"background-color: #FFFEFE\"> bedroom</span><span style=\"background-color: #FFFEFE\"> in</span><span style=\"background-color: #FFE7E7\"> bed</span><span style=\"background-color: #FFFCFC\"> next</span><span style=\"background-color: #FFFEFE\"> to</span><span style=\"background-color: #FFFCFC\"> her</span><span style=\"background-color: #FFF9F9\"> stereo</span><span style=\"background-color: #FFFCFC\"> it</span><span style=\"background-color: #FFF3F3\"> seems</span><span style=\"background-color: #FFFDFD\"> ,</span><span style=\"background-color: #FFFEFE\"> and</span><span style=\"background-color: #FFFAFA\"> other</span><span style=\"background-color: #FFFCFC\"> parts</span><span style=\"background-color: #FFFEFE\"> of</span><span style=\"background-color: #FFFCFC\"> her</span><span style=\"background-color: #FFFEFE\"> apartment</span><span style=\"background-color: #FFF3F3\"> seem</span><span style=\"background-color: #FFFAFA\"> foreign</span><span style=\"background-color: #FFFEFE\"> to</span><span style=\"background-color: #FFFCFC\"> her</span><span style=\"background-color: #FFECEC\"> somehow</span><span style=\"background-color: #FFFDFD\"> ,</span><span style=\"background-color: #FFFCFC\"> as</span><span style=\"background-color: #FFF6F6\"> though</span><span style=\"background-color: #FFFBFB\"> other</span><span style=\"background-color: #FFFEFE\"> people</span><span style=\"background-color: #FFFEFE\"> live</span><span style=\"background-color: #FFFEFE\"> in</span><span style=\"background-color: #FFFBFB\"> those</span><span style=\"background-color: #FFF9F9\"> other</span><span style=\"background-color: #FFFCFC\"> rooms</span><span style=\"background-color: #FFFEFE\"> .</span><span style=\"background-color: #FFFBFB\"> dario</span><span style=\"background-color: #FFFDFD\"> argento</span><span style=\"background-color: #FFF7F7\"> s</span><span style=\"background-color: #FFFDFD\"> movies</span><span style=\"background-color: #FFFBFB\"> sync</span><span style=\"background-color: #FFFEFE\"> with</span><span style=\"background-color: #FFFEFE\"> a</span><span style=\"background-color: #FFF5F5\"> wide</span><span style=\"background-color: #FFFDFD\"> array</span><span style=\"background-color: #FFFEFE\"> of</span><span style=\"background-color: #FFF9F9\"> rock</span><span style=\"background-color: #FFFEFE\"> music</span><span style=\"background-color: #FFFDFD\"> ,</span><span style=\"background-color: #FFFDFD\"> as</span><span style=\"background-color: #FFC1C1\"> well</span><span style=\"background-color: #FFFCFC\"> as</span><span style=\"background-color: #FFFBFB\"> funk</span><span style=\"background-color: #FFFAFA\"> dario</span><span style=\"background-color: #FFF7F7\"> starts</span><span style=\"background-color: #FFFEFE\"> the</span><span style=\"background-color: #FFFEFE\"> <unk></span><span style=\"background-color: #FFEDED\"> right</span><span style=\"background-color: #FFFDFD\"> at</span><span style=\"background-color: #FFFEFE\"> the</span><span style=\"background-color: #FFFDFD\"> beginning</span><span style=\"background-color: #FFFEFE\"> of</span><span style=\"background-color: #FFF9F9\"> his</span><span style=\"background-color: #FFFEFE\"> films</span><span style=\"background-color: #FFFEFE\"> ,</span><span style=\"background-color: #FFFEFE\"> the</span><span style=\"background-color: #FFFDFD\"> flash</span><span style=\"background-color: #FFFEFE\"> of</span><span style=\"background-color: #FFFEFE\"> the</span><span style=\"background-color: #FFFDFD\"> eye</span><span style=\"background-color: #FFFEFE\"> in</span><span style=\"background-color: #FFFEFE\"> opera</span><span style=\"background-color: #FFFEFE\"> ,</span><span style=\"background-color: #FFFEFE\"> and</span><span style=\"background-color: #FFFEFE\"> the</span><span style=\"background-color: #FFFAFA\"> start</span><span style=\"background-color: #FFFDFD\"> of</span><span style=\"background-color: #FFFEFE\"> a</span><span style=\"background-color: #FFFDFD\"> drum</span><span style=\"background-color: #FFE8E8\"> roll</span><span style=\"background-color: #FFFEFE\"> in</span><span style=\"background-color: #FFFEFE\"> <unk></span><span style=\"background-color: #FFFDFD\"> .</span><span style=\"background-color: #FFFEFE\"> there</span><span style=\"background-color: #FFF5F5\"> are</span><span style=\"background-color: #FFFDFD\"> also</span><span style=\"background-color: #FFFDFD\"> standard</span><span style=\"background-color: #FFFCFC\"> movies</span><span style=\"background-color: #FFFDFD\"> that</span><span style=\"background-color: #FFFEFE\"> opera</span><span style=\"background-color: #FFFEFE\"> and</span><span style=\"background-color: #FFFEFE\"> <unk></span><span style=\"background-color: #FFFAFA\"> sync</span><span style=\"background-color: #FFFEFE\"> with</span><span style=\"background-color: #FFFEFE\"> .</span><span style=\"background-color: #FFFEFE\"> for</span><span style=\"background-color: #FFFDFD\"> example</span><span style=\"background-color: #FFFDFD\"> ,</span><span style=\"background-color: #FFFEFE\"> opera</span><span style=\"background-color: #FFFEFE\"> <unk></span><span style=\"background-color: #FFFDFD\"> with</span><span style=\"background-color: #FFFDFD\"> with</span><span style=\"background-color: #FFFEFE\"> a</span><span style=\"background-color: #FFF9F9\"> record</span><span style=\"background-color: #FFFEFE\"> album</span><span style=\"background-color: #FFFDFD\"> by</span><span style=\"background-color: #FFFDFD\"> judas</span><span style=\"background-color: #FFFDFD\"> priest</span><span style=\"background-color: #FFFEFE\"> called</span><span style=\"background-color: #FFFDFD\"> priest</span><span style=\"background-color: #FFFEFE\"> .</span><span style=\"background-color: #FFFEFE\"> .</span><span style=\"background-color: #FFFEFE\"> .</span><span style=\"background-color: #FFFDFD\"> live</span><span style=\"background-color: #FFFCFC\"> as</span><span style=\"background-color: #FFFCFC\"> does</span><span style=\"background-color: #FFFEFE\"> <unk></span><span style=\"background-color: #FFFDFD\"> ,</span><span style=\"background-color: #FFFEFE\"> and</span><span style=\"background-color: #FFFEFE\"> <unk></span><span style=\"background-color: #FFFEFE\"> <unk></span><span style=\"background-color: #FFDCDC\"> very</span><span style=\"background-color: #FFBFBF\"> well</span><span style=\"background-color: #FFFEFE\"> with</span><span style=\"background-color: #FFFEFE\"> a</span><span style=\"background-color: #FFFEFE\"> kiss</span><span style=\"background-color: #FFFBFB\"> record</span><span style=\"background-color: #FFFEFE\"> album</span><span style=\"background-color: #FFFDFD\"> entitled</span><span style=\"background-color: #FFFEFE\"> kiss</span><span style=\"background-color: #FFF9F9\"> alive</span><span style=\"background-color: #FFFBFB\"> ii</span><span style=\"background-color: #FFFDFD\"> .</span><span style=\"background-color: #FFFCFC\"> movies</span><span style=\"background-color: #FFF9F9\"> like</span><span style=\"background-color: #FFFCFC\"> rosemary</span><span style=\"background-color: #FFF6F6\"> s</span><span style=\"background-color: #FFE8E8\"> baby</span><span style=\"background-color: #FFFCFC\"> ,</span><span style=\"background-color: #FFFEFE\"> the</span><span style=\"background-color: #FFFCFC\"> exorcist</span><span style=\"background-color: #FFFDFD\"> ,</span><span style=\"background-color: #FFFEFE\"> the</span><span style=\"background-color: #FFFDFD\"> image</span><span style=\"background-color: #FFFDFD\"> ,</span><span style=\"background-color: #FFFEFE\"> and</span><span style=\"background-color: #FFFEFE\"> the</span><span style=\"background-color: #FFFDFD\"> vampire</span><span style=\"background-color: #FFF9F9\"> happening</span><span style=\"background-color: #FFF5F5\"> are</span><span style=\"background-color: #FFF9F9\"> sync</span><span style=\"background-color: #FFFCFC\"> movies</span><span style=\"background-color: #FFFCFC\"> argento</span><span style=\"background-color: #FFF9F9\"> uses</span><span style=\"background-color: #FFFDFD\"> which</span><span style=\"background-color: #FFFDFD\"> deal</span><span style=\"background-color: #FFFDFD\"> with</span><span style=\"background-color: #FFFEFE\"> the</span><span style=\"background-color: #FFF9F9\"> same</span><span style=\"background-color: #FFFEFE\"> subject</span><span style=\"background-color: #FFFCFC\"> matter</span><span style=\"background-color: #FFFDFD\"> as</span><span style=\"background-color: #FFFDFD\"> argento</span><span style=\"background-color: #FFF5F5\"> s</span><span style=\"background-color: #FFFEFE\"> films</span><span style=\"background-color: #FFFEFE\"> <eos></span><br><br>"
     },
     "metadata": {},
     "execution_count": 10
    }
   ]
  },
  {
   "cell_type": "code",
   "execution_count": 11,
   "metadata": {},
   "outputs": [
    {
     "output_type": "execute_result",
     "data": {
      "text/plain": [
       "<IPython.core.display.HTML object>"
      ],
      "text/html": "正解ラベル：Positive<br>推論ラベル：Negative<br><br>[TransformerBlockの1段目のAttentionを可視化]<br><span style=\"background-color: #FFFBFB\"> <cls></span><span style=\"background-color: #FFFDFD\"> i</span><span style=\"background-color: #FFFDFD\"> am</span><span style=\"background-color: #FFFEFE\"> from</span><span style=\"background-color: #FFFCFC\"> texas</span><span style=\"background-color: #FFFEFE\"> ,</span><span style=\"background-color: #FFFEFE\"> and</span><span style=\"background-color: #FFF6F6\"> live</span><span style=\"background-color: #FFFEFE\"> very</span><span style=\"background-color: #FFFDFD\"> close</span><span style=\"background-color: #FFFEFE\"> to</span><span style=\"background-color: #FFFEFE\"> <unk></span><span style=\"background-color: #FFFEFE\"> where</span><span style=\"background-color: #FFFEFE\"> the</span><span style=\"background-color: #FFF6F6\"> actual</span><span style=\"background-color: #FFF1F1\"> deaths</span><span style=\"background-color: #FFF1F1\"> occurred</span><span style=\"background-color: #FFFEFE\"> ,</span><span style=\"background-color: #FFFEFE\"> so</span><span style=\"background-color: #FFFEFE\"> i</span><span style=\"background-color: #FFFDFD\"> might</span><span style=\"background-color: #FFFEFE\"> be</span><span style=\"background-color: #FFFDFD\"> a</span><span style=\"background-color: #FFFDFD\"> bit</span><span style=\"background-color: #FFFBFB\"> biased</span><span style=\"background-color: #FFFEFE\"> in</span><span style=\"background-color: #FFFEFE\"> saying</span><span style=\"background-color: #FFFEFE\"> that</span><span style=\"background-color: #FFA9A9\"> wasted</span><span style=\"background-color: #FFFDFD\"> is</span><span style=\"background-color: #FFFDFD\"> a</span><span style=\"background-color: #FFFAFA\"> film</span><span style=\"background-color: #FFFEFE\"> that</span><span style=\"background-color: #FFFEFE\"> you</span><span style=\"background-color: #FFFCFC\"> just</span><span style=\"background-color: #FFF6F6\"> can</span><span style=\"background-color: #FFFBFB\"> t</span><span style=\"background-color: #FFFEFE\"> get</span><span style=\"background-color: #FFFEFE\"> out</span><span style=\"background-color: #FFFDFD\"> of</span><span style=\"background-color: #FFF3F3\"> your</span><span style=\"background-color: #FFFDFD\"> head</span><span style=\"background-color: #FFFEFE\"> .</span><span style=\"background-color: #FFFEFE\"> stahl</span><span style=\"background-color: #FFFEFE\"> ,</span><span style=\"background-color: #FFF1F1\"> phoenix</span><span style=\"background-color: #FFFEFE\"> ,</span><span style=\"background-color: #FFFEFE\"> and</span><span style=\"background-color: #FFFEFE\"> paul</span><span style=\"background-color: #FFFCFC\"> all</span><span style=\"background-color: #FFF7F7\"> play</span><span style=\"background-color: #FFFAFA\"> their</span><span style=\"background-color: #FFF3F3\"> characters</span><span style=\"background-color: #FFFEFE\"> very</span><span style=\"background-color: #FFFDFD\"> realistically</span><span style=\"background-color: #FFFEFE\"> .</span><span style=\"background-color: #FFFEFE\"> you</span><span style=\"background-color: #FFDBDB\"> truly</span><span style=\"background-color: #FFEAEA\"> believe</span><span style=\"background-color: #FFFEFE\"> that</span><span style=\"background-color: #FFFDFD\"> they</span><span style=\"background-color: #FFFDFD\"> are</span><span style=\"background-color: #FFFCFC\"> everyday</span><span style=\"background-color: #FFFEFE\"> high</span><span style=\"background-color: #FFFDFD\"> school</span><span style=\"background-color: #FFFEFE\"> students</span><span style=\"background-color: #FFFEFE\"> who</span><span style=\"background-color: #FFFCFC\"> just</span><span style=\"background-color: #FFFBFB\"> happen</span><span style=\"background-color: #FFFEFE\"> to</span><span style=\"background-color: #FFFEFE\"> be</span><span style=\"background-color: #FFCDCD\"> heroin</span><span style=\"background-color: #FF1919\"> addicts</span><span style=\"background-color: #FFFEFE\"> .</span><span style=\"background-color: #FFFDFD\"> the</span><span style=\"background-color: #FFF5F5\"> drug</span><span style=\"background-color: #FFFEFE\"> content</span><span style=\"background-color: #FFFDFD\"> is</span><span style=\"background-color: #FFF5F5\"> handled</span><span style=\"background-color: #FFFEFE\"> very</span><span style=\"background-color: #FFFDFD\"> graphically</span><span style=\"background-color: #FFFEFE\"> as</span><span style=\"background-color: #FFFDFD\"> well</span><span style=\"background-color: #FFFEFE\"> although</span><span style=\"background-color: #FFEEEE\"> everything</span><span style=\"background-color: #FFFEFE\"> that</span><span style=\"background-color: #FFFCFC\"> happens</span><span style=\"background-color: #FFFEFE\"> in</span><span style=\"background-color: #FFFEFE\"> the</span><span style=\"background-color: #FFFAFA\"> film</span><span style=\"background-color: #FFF9F9\"> serves</span><span style=\"background-color: #FFFDFD\"> a</span><span style=\"background-color: #FFE7E7\"> purpose</span><span style=\"background-color: #FFFEFE\"> ,</span><span style=\"background-color: #FFFEFE\"> and</span><span style=\"background-color: #FFFDFD\"> each</span><span style=\"background-color: #FFFBFB\"> moment</span><span style=\"background-color: #FFFDFD\"> the</span><span style=\"background-color: #FFF1F1\"> characters</span><span style=\"background-color: #FFF8F8\"> spiral</span><span style=\"background-color: #FFF8F8\"> further</span><span style=\"background-color: #FFFDFD\"> downward</span><span style=\"background-color: #FFFCFC\"> is</span><span style=\"background-color: #FF0000\"> heartbreaking</span><span style=\"background-color: #FFFEFE\"> .</span><span style=\"background-color: #FFFDFD\"> i</span><span style=\"background-color: #FFC5C5\"> definitely</span><span style=\"background-color: #FFEEEE\"> recommend</span><span style=\"background-color: #FFFBFB\"> this</span><span style=\"background-color: #FFFAFA\"> film</span><span style=\"background-color: #FFFEFE\"> to</span><span style=\"background-color: #FFFEFE\"> anyone</span><span style=\"background-color: #FFFEFE\"> .</span><span style=\"background-color: #FFFEFE\"> once</span><span style=\"background-color: #FFFEFE\"> you</span><span style=\"background-color: #FFF8F8\"> watch</span><span style=\"background-color: #FFFEFE\"> it</span><span style=\"background-color: #FFFEFE\"> ,</span><span style=\"background-color: #FFFEFE\"> it</span><span style=\"background-color: #FFFCFC\"> sticks</span><span style=\"background-color: #FFFEFE\"> with</span><span style=\"background-color: #FFFEFE\"> you</span><span style=\"background-color: #FFFCFC\"> <eos></span><span style=\"background-color: #FFFFFF\"> <pad></span><span style=\"background-color: #FFFFFF\"> <pad></span><span style=\"background-color: #FFFFFF\"> <pad></span><span style=\"background-color: #FFFFFF\"> <pad></span><span style=\"background-color: #FFFFFF\"> <pad></span><span style=\"background-color: #FFFFFF\"> <pad></span><span style=\"background-color: #FFFFFF\"> <pad></span><span style=\"background-color: #FFFFFF\"> <pad></span><span style=\"background-color: #FFFFFF\"> <pad></span><span style=\"background-color: #FFFFFF\"> <pad></span><span style=\"background-color: #FFFFFF\"> <pad></span><span style=\"background-color: #FFFFFF\"> <pad></span><span style=\"background-color: #FFFFFF\"> <pad></span><span style=\"background-color: #FFFFFF\"> <pad></span><span style=\"background-color: #FFFFFF\"> <pad></span><span style=\"background-color: #FFFFFF\"> <pad></span><span style=\"background-color: #FFFFFF\"> <pad></span><span style=\"background-color: #FFFFFF\"> <pad></span><span style=\"background-color: #FFFFFF\"> <pad></span><span style=\"background-color: #FFFFFF\"> <pad></span><span style=\"background-color: #FFFFFF\"> <pad></span><span style=\"background-color: #FFFFFF\"> <pad></span><span style=\"background-color: #FFFFFF\"> <pad></span><span style=\"background-color: #FFFFFF\"> <pad></span><span style=\"background-color: #FFFFFF\"> <pad></span><span style=\"background-color: #FFFFFF\"> <pad></span><span style=\"background-color: #FFFFFF\"> <pad></span><span style=\"background-color: #FFFFFF\"> <pad></span><span style=\"background-color: #FFFFFF\"> <pad></span><span style=\"background-color: #FFFFFF\"> <pad></span><span style=\"background-color: #FFFFFF\"> <pad></span><span style=\"background-color: #FFFFFF\"> <pad></span><span style=\"background-color: #FFFFFF\"> <pad></span><span style=\"background-color: #FFFFFF\"> <pad></span><span style=\"background-color: #FFFFFF\"> <pad></span><span style=\"background-color: #FFFFFF\"> <pad></span><span style=\"background-color: #FFFFFF\"> <pad></span><span style=\"background-color: #FFFFFF\"> <pad></span><span style=\"background-color: #FFFFFF\"> <pad></span><span style=\"background-color: #FFFFFF\"> <pad></span><span style=\"background-color: #FFFFFF\"> <pad></span><span style=\"background-color: #FFFFFF\"> <pad></span><span style=\"background-color: #FFFFFF\"> <pad></span><span style=\"background-color: #FFFFFF\"> <pad></span><span style=\"background-color: #FFFFFF\"> <pad></span><span style=\"background-color: #FFFFFF\"> <pad></span><span style=\"background-color: #FFFFFF\"> <pad></span><span style=\"background-color: #FFFFFF\"> <pad></span><span style=\"background-color: #FFFFFF\"> <pad></span><span style=\"background-color: #FFFFFF\"> <pad></span><span style=\"background-color: #FFFFFF\"> <pad></span><span style=\"background-color: #FFFFFF\"> <pad></span><span style=\"background-color: #FFFFFF\"> <pad></span><span style=\"background-color: #FFFFFF\"> <pad></span><span style=\"background-color: #FFFFFF\"> <pad></span><span style=\"background-color: #FFFFFF\"> <pad></span><span style=\"background-color: #FFFFFF\"> <pad></span><span style=\"background-color: #FFFFFF\"> <pad></span><span style=\"background-color: #FFFFFF\"> <pad></span><span style=\"background-color: #FFFFFF\"> <pad></span><span style=\"background-color: #FFFFFF\"> <pad></span><span style=\"background-color: #FFFFFF\"> <pad></span><span style=\"background-color: #FFFFFF\"> <pad></span><span style=\"background-color: #FFFFFF\"> <pad></span><span style=\"background-color: #FFFFFF\"> <pad></span><span style=\"background-color: #FFFFFF\"> <pad></span><span style=\"background-color: #FFFFFF\"> <pad></span><span style=\"background-color: #FFFFFF\"> <pad></span><span style=\"background-color: #FFFFFF\"> <pad></span><span style=\"background-color: #FFFFFF\"> <pad></span><span style=\"background-color: #FFFFFF\"> <pad></span><span style=\"background-color: #FFFFFF\"> <pad></span><span style=\"background-color: #FFFFFF\"> <pad></span><span style=\"background-color: #FFFFFF\"> <pad></span><span style=\"background-color: #FFFFFF\"> <pad></span><span style=\"background-color: #FFFFFF\"> <pad></span><span style=\"background-color: #FFFFFF\"> <pad></span><span style=\"background-color: #FFFFFF\"> <pad></span><span style=\"background-color: #FFFFFF\"> <pad></span><span style=\"background-color: #FFFFFF\"> <pad></span><span style=\"background-color: #FFFFFF\"> <pad></span><span style=\"background-color: #FFFFFF\"> <pad></span><span style=\"background-color: #FFFFFF\"> <pad></span><span style=\"background-color: #FFFFFF\"> <pad></span><span style=\"background-color: #FFFFFF\"> <pad></span><span style=\"background-color: #FFFFFF\"> <pad></span><span style=\"background-color: #FFFFFF\"> <pad></span><span style=\"background-color: #FFFFFF\"> <pad></span><span style=\"background-color: #FFFFFF\"> <pad></span><span style=\"background-color: #FFFFFF\"> <pad></span><span style=\"background-color: #FFFFFF\"> <pad></span><span style=\"background-color: #FFFFFF\"> <pad></span><span style=\"background-color: #FFFFFF\"> <pad></span><span style=\"background-color: #FFFFFF\"> <pad></span><span style=\"background-color: #FFFFFF\"> <pad></span><span style=\"background-color: #FFFFFF\"> <pad></span><span style=\"background-color: #FFFFFF\"> <pad></span><span style=\"background-color: #FFFFFF\"> <pad></span><span style=\"background-color: #FFFFFF\"> <pad></span><span style=\"background-color: #FFFFFF\"> <pad></span><span style=\"background-color: #FFFFFF\"> <pad></span><span style=\"background-color: #FFFFFF\"> <pad></span><span style=\"background-color: #FFFFFF\"> <pad></span><span style=\"background-color: #FFFFFF\"> <pad></span><span style=\"background-color: #FFFFFF\"> <pad></span><span style=\"background-color: #FFFFFF\"> <pad></span><span style=\"background-color: #FFFFFF\"> <pad></span><span style=\"background-color: #FFFFFF\"> <pad></span><span style=\"background-color: #FFFFFF\"> <pad></span><span style=\"background-color: #FFFFFF\"> <pad></span><span style=\"background-color: #FFFFFF\"> <pad></span><span style=\"background-color: #FFFFFF\"> <pad></span><span style=\"background-color: #FFFFFF\"> <pad></span><span style=\"background-color: #FFFFFF\"> <pad></span><span style=\"background-color: #FFFFFF\"> <pad></span><span style=\"background-color: #FFFFFF\"> <pad></span><span style=\"background-color: #FFFFFF\"> <pad></span><span style=\"background-color: #FFFFFF\"> <pad></span><span style=\"background-color: #FFFFFF\"> <pad></span><span style=\"background-color: #FFFFFF\"> <pad></span><span style=\"background-color: #FFFFFF\"> <pad></span><span style=\"background-color: #FFFFFF\"> <pad></span><span style=\"background-color: #FFFFFF\"> <pad></span><span style=\"background-color: #FFFFFF\"> <pad></span><span style=\"background-color: #FFFFFF\"> <pad></span><span style=\"background-color: #FFFFFF\"> <pad></span><span style=\"background-color: #FFFFFF\"> <pad></span><span style=\"background-color: #FFFFFF\"> <pad></span><span style=\"background-color: #FFFFFF\"> <pad></span><span style=\"background-color: #FFFFFF\"> <pad></span><span style=\"background-color: #FFFFFF\"> <pad></span><span style=\"background-color: #FFFFFF\"> <pad></span><span style=\"background-color: #FFFFFF\"> <pad></span><br><br>[TransformerBlockの2段目のAttentionを可視化]<br><span style=\"background-color: #FFFEFE\"> <cls></span><span style=\"background-color: #FFFEFE\"> i</span><span style=\"background-color: #FFFEFE\"> am</span><span style=\"background-color: #FFFEFE\"> from</span><span style=\"background-color: #FFFEFE\"> texas</span><span style=\"background-color: #FFFEFE\"> ,</span><span style=\"background-color: #FFFEFE\"> and</span><span style=\"background-color: #FFFEFE\"> live</span><span style=\"background-color: #FFFCFC\"> very</span><span style=\"background-color: #FFFCFC\"> close</span><span style=\"background-color: #FFFEFE\"> to</span><span style=\"background-color: #FFFEFE\"> <unk></span><span style=\"background-color: #FFFEFE\"> where</span><span style=\"background-color: #FFFEFE\"> the</span><span style=\"background-color: #FFFEFE\"> actual</span><span style=\"background-color: #FFFDFD\"> deaths</span><span style=\"background-color: #FFFEFE\"> occurred</span><span style=\"background-color: #FFFEFE\"> ,</span><span style=\"background-color: #FFFEFE\"> so</span><span style=\"background-color: #FFFEFE\"> i</span><span style=\"background-color: #FFFEFE\"> might</span><span style=\"background-color: #FFFEFE\"> be</span><span style=\"background-color: #FFFEFE\"> a</span><span style=\"background-color: #FFFDFD\"> bit</span><span style=\"background-color: #FFFDFD\"> biased</span><span style=\"background-color: #FFFEFE\"> in</span><span style=\"background-color: #FFFEFE\"> saying</span><span style=\"background-color: #FFFEFE\"> that</span><span style=\"background-color: #FF0000\"> wasted</span><span style=\"background-color: #FFFEFE\"> is</span><span style=\"background-color: #FFFEFE\"> a</span><span style=\"background-color: #FFFEFE\"> film</span><span style=\"background-color: #FFFEFE\"> that</span><span style=\"background-color: #FFFEFE\"> you</span><span style=\"background-color: #FFFEFE\"> just</span><span style=\"background-color: #FFFEFE\"> can</span><span style=\"background-color: #FFFDFD\"> t</span><span style=\"background-color: #FFFEFE\"> get</span><span style=\"background-color: #FFFEFE\"> out</span><span style=\"background-color: #FFFEFE\"> of</span><span style=\"background-color: #FFFEFE\"> your</span><span style=\"background-color: #FFFAFA\"> head</span><span style=\"background-color: #FFFEFE\"> .</span><span style=\"background-color: #FFFEFE\"> stahl</span><span style=\"background-color: #FFFEFE\"> ,</span><span style=\"background-color: #FFFEFE\"> phoenix</span><span style=\"background-color: #FFFEFE\"> ,</span><span style=\"background-color: #FFFEFE\"> and</span><span style=\"background-color: #FFFEFE\"> paul</span><span style=\"background-color: #FFFDFD\"> all</span><span style=\"background-color: #FFFEFE\"> play</span><span style=\"background-color: #FFFEFE\"> their</span><span style=\"background-color: #FFFEFE\"> characters</span><span style=\"background-color: #FFFAFA\"> very</span><span style=\"background-color: #FFFAFA\"> realistically</span><span style=\"background-color: #FFFEFE\"> .</span><span style=\"background-color: #FFFEFE\"> you</span><span style=\"background-color: #FFFDFD\"> truly</span><span style=\"background-color: #FFFEFE\"> believe</span><span style=\"background-color: #FFFEFE\"> that</span><span style=\"background-color: #FFFEFE\"> they</span><span style=\"background-color: #FFFDFD\"> are</span><span style=\"background-color: #FFFEFE\"> everyday</span><span style=\"background-color: #FFFCFC\"> high</span><span style=\"background-color: #FFFEFE\"> school</span><span style=\"background-color: #FFFEFE\"> students</span><span style=\"background-color: #FFFEFE\"> who</span><span style=\"background-color: #FFFEFE\"> just</span><span style=\"background-color: #FFFEFE\"> happen</span><span style=\"background-color: #FFFEFE\"> to</span><span style=\"background-color: #FFFEFE\"> be</span><span style=\"background-color: #FFFEFE\"> heroin</span><span style=\"background-color: #FFFEFE\"> addicts</span><span style=\"background-color: #FFFEFE\"> .</span><span style=\"background-color: #FFFEFE\"> the</span><span style=\"background-color: #FFFEFE\"> drug</span><span style=\"background-color: #FFFEFE\"> content</span><span style=\"background-color: #FFFEFE\"> is</span><span style=\"background-color: #FFF7F7\"> handled</span><span style=\"background-color: #FFF9F9\"> very</span><span style=\"background-color: #FFF2F2\"> graphically</span><span style=\"background-color: #FFFEFE\"> as</span><span style=\"background-color: #FFF7F7\"> well</span><span style=\"background-color: #FFFCFC\"> although</span><span style=\"background-color: #FFFBFB\"> everything</span><span style=\"background-color: #FFFEFE\"> that</span><span style=\"background-color: #FFFEFE\"> happens</span><span style=\"background-color: #FFFEFE\"> in</span><span style=\"background-color: #FFFEFE\"> the</span><span style=\"background-color: #FFFEFE\"> film</span><span style=\"background-color: #FFFEFE\"> serves</span><span style=\"background-color: #FFFEFE\"> a</span><span style=\"background-color: #FFFEFE\"> purpose</span><span style=\"background-color: #FFFEFE\"> ,</span><span style=\"background-color: #FFFEFE\"> and</span><span style=\"background-color: #FFFDFD\"> each</span><span style=\"background-color: #FFFEFE\"> moment</span><span style=\"background-color: #FFFEFE\"> the</span><span style=\"background-color: #FFFEFE\"> characters</span><span style=\"background-color: #FFFEFE\"> spiral</span><span style=\"background-color: #FFFEFE\"> further</span><span style=\"background-color: #FFFDFD\"> downward</span><span style=\"background-color: #FFFEFE\"> is</span><span style=\"background-color: #FFFCFC\"> heartbreaking</span><span style=\"background-color: #FFFEFE\"> .</span><span style=\"background-color: #FFFEFE\"> i</span><span style=\"background-color: #FFFDFD\"> definitely</span><span style=\"background-color: #FFFEFE\"> recommend</span><span style=\"background-color: #FFFEFE\"> this</span><span style=\"background-color: #FFFEFE\"> film</span><span style=\"background-color: #FFFEFE\"> to</span><span style=\"background-color: #FFFDFD\"> anyone</span><span style=\"background-color: #FFFEFE\"> .</span><span style=\"background-color: #FFFEFE\"> once</span><span style=\"background-color: #FFFEFE\"> you</span><span style=\"background-color: #FFFCFC\"> watch</span><span style=\"background-color: #FFFEFE\"> it</span><span style=\"background-color: #FFFEFE\"> ,</span><span style=\"background-color: #FFFEFE\"> it</span><span style=\"background-color: #FFFEFE\"> sticks</span><span style=\"background-color: #FFFEFE\"> with</span><span style=\"background-color: #FFFEFE\"> you</span><span style=\"background-color: #FFFEFE\"> <eos></span><span style=\"background-color: #FFFFFF\"> <pad></span><span style=\"background-color: #FFFFFF\"> <pad></span><span style=\"background-color: #FFFFFF\"> <pad></span><span style=\"background-color: #FFFFFF\"> <pad></span><span style=\"background-color: #FFFFFF\"> <pad></span><span style=\"background-color: #FFFFFF\"> <pad></span><span style=\"background-color: #FFFFFF\"> <pad></span><span style=\"background-color: #FFFFFF\"> <pad></span><span style=\"background-color: #FFFFFF\"> <pad></span><span style=\"background-color: #FFFFFF\"> <pad></span><span style=\"background-color: #FFFFFF\"> <pad></span><span style=\"background-color: #FFFFFF\"> <pad></span><span style=\"background-color: #FFFFFF\"> <pad></span><span style=\"background-color: #FFFFFF\"> <pad></span><span style=\"background-color: #FFFFFF\"> <pad></span><span style=\"background-color: #FFFFFF\"> <pad></span><span style=\"background-color: #FFFFFF\"> <pad></span><span style=\"background-color: #FFFFFF\"> <pad></span><span style=\"background-color: #FFFFFF\"> <pad></span><span style=\"background-color: #FFFFFF\"> <pad></span><span style=\"background-color: #FFFFFF\"> <pad></span><span style=\"background-color: #FFFFFF\"> <pad></span><span style=\"background-color: #FFFFFF\"> <pad></span><span style=\"background-color: #FFFFFF\"> <pad></span><span style=\"background-color: #FFFFFF\"> <pad></span><span style=\"background-color: #FFFFFF\"> <pad></span><span style=\"background-color: #FFFFFF\"> <pad></span><span style=\"background-color: #FFFFFF\"> <pad></span><span style=\"background-color: #FFFFFF\"> <pad></span><span style=\"background-color: #FFFFFF\"> <pad></span><span style=\"background-color: #FFFFFF\"> <pad></span><span style=\"background-color: #FFFFFF\"> <pad></span><span style=\"background-color: #FFFFFF\"> <pad></span><span style=\"background-color: #FFFFFF\"> <pad></span><span style=\"background-color: #FFFFFF\"> <pad></span><span style=\"background-color: #FFFFFF\"> <pad></span><span style=\"background-color: #FFFFFF\"> <pad></span><span style=\"background-color: #FFFFFF\"> <pad></span><span style=\"background-color: #FFFFFF\"> <pad></span><span style=\"background-color: #FFFFFF\"> <pad></span><span style=\"background-color: #FFFFFF\"> <pad></span><span style=\"background-color: #FFFFFF\"> <pad></span><span style=\"background-color: #FFFFFF\"> <pad></span><span style=\"background-color: #FFFFFF\"> <pad></span><span style=\"background-color: #FFFFFF\"> <pad></span><span style=\"background-color: #FFFFFF\"> <pad></span><span style=\"background-color: #FFFFFF\"> <pad></span><span style=\"background-color: #FFFFFF\"> <pad></span><span style=\"background-color: #FFFFFF\"> <pad></span><span style=\"background-color: #FFFFFF\"> <pad></span><span style=\"background-color: #FFFFFF\"> <pad></span><span style=\"background-color: #FFFFFF\"> <pad></span><span style=\"background-color: #FFFFFF\"> <pad></span><span style=\"background-color: #FFFFFF\"> <pad></span><span style=\"background-color: #FFFFFF\"> <pad></span><span style=\"background-color: #FFFFFF\"> <pad></span><span style=\"background-color: #FFFFFF\"> <pad></span><span style=\"background-color: #FFFFFF\"> <pad></span><span style=\"background-color: #FFFFFF\"> <pad></span><span style=\"background-color: #FFFFFF\"> <pad></span><span style=\"background-color: #FFFFFF\"> <pad></span><span style=\"background-color: #FFFFFF\"> <pad></span><span style=\"background-color: #FFFFFF\"> <pad></span><span style=\"background-color: #FFFFFF\"> <pad></span><span style=\"background-color: #FFFFFF\"> <pad></span><span style=\"background-color: #FFFFFF\"> <pad></span><span style=\"background-color: #FFFFFF\"> <pad></span><span style=\"background-color: #FFFFFF\"> <pad></span><span style=\"background-color: #FFFFFF\"> <pad></span><span style=\"background-color: #FFFFFF\"> <pad></span><span style=\"background-color: #FFFFFF\"> <pad></span><span style=\"background-color: #FFFFFF\"> <pad></span><span style=\"background-color: #FFFFFF\"> <pad></span><span style=\"background-color: #FFFFFF\"> <pad></span><span style=\"background-color: #FFFFFF\"> <pad></span><span style=\"background-color: #FFFFFF\"> <pad></span><span style=\"background-color: #FFFFFF\"> <pad></span><span style=\"background-color: #FFFFFF\"> <pad></span><span style=\"background-color: #FFFFFF\"> <pad></span><span style=\"background-color: #FFFFFF\"> <pad></span><span style=\"background-color: #FFFFFF\"> <pad></span><span style=\"background-color: #FFFFFF\"> <pad></span><span style=\"background-color: #FFFFFF\"> <pad></span><span style=\"background-color: #FFFFFF\"> <pad></span><span style=\"background-color: #FFFFFF\"> <pad></span><span style=\"background-color: #FFFFFF\"> <pad></span><span style=\"background-color: #FFFFFF\"> <pad></span><span style=\"background-color: #FFFFFF\"> <pad></span><span style=\"background-color: #FFFFFF\"> <pad></span><span style=\"background-color: #FFFFFF\"> <pad></span><span style=\"background-color: #FFFFFF\"> <pad></span><span style=\"background-color: #FFFFFF\"> <pad></span><span style=\"background-color: #FFFFFF\"> <pad></span><span style=\"background-color: #FFFFFF\"> <pad></span><span style=\"background-color: #FFFFFF\"> <pad></span><span style=\"background-color: #FFFFFF\"> <pad></span><span style=\"background-color: #FFFFFF\"> <pad></span><span style=\"background-color: #FFFFFF\"> <pad></span><span style=\"background-color: #FFFFFF\"> <pad></span><span style=\"background-color: #FFFFFF\"> <pad></span><span style=\"background-color: #FFFFFF\"> <pad></span><span style=\"background-color: #FFFFFF\"> <pad></span><span style=\"background-color: #FFFFFF\"> <pad></span><span style=\"background-color: #FFFFFF\"> <pad></span><span style=\"background-color: #FFFFFF\"> <pad></span><span style=\"background-color: #FFFFFF\"> <pad></span><span style=\"background-color: #FFFFFF\"> <pad></span><span style=\"background-color: #FFFFFF\"> <pad></span><span style=\"background-color: #FFFFFF\"> <pad></span><span style=\"background-color: #FFFFFF\"> <pad></span><span style=\"background-color: #FFFFFF\"> <pad></span><span style=\"background-color: #FFFFFF\"> <pad></span><span style=\"background-color: #FFFFFF\"> <pad></span><span style=\"background-color: #FFFFFF\"> <pad></span><span style=\"background-color: #FFFFFF\"> <pad></span><span style=\"background-color: #FFFFFF\"> <pad></span><span style=\"background-color: #FFFFFF\"> <pad></span><span style=\"background-color: #FFFFFF\"> <pad></span><span style=\"background-color: #FFFFFF\"> <pad></span><span style=\"background-color: #FFFFFF\"> <pad></span><span style=\"background-color: #FFFFFF\"> <pad></span><span style=\"background-color: #FFFFFF\"> <pad></span><span style=\"background-color: #FFFFFF\"> <pad></span><span style=\"background-color: #FFFFFF\"> <pad></span><span style=\"background-color: #FFFFFF\"> <pad></span><span style=\"background-color: #FFFFFF\"> <pad></span><span style=\"background-color: #FFFFFF\"> <pad></span><span style=\"background-color: #FFFFFF\"> <pad></span><span style=\"background-color: #FFFFFF\"> <pad></span><span style=\"background-color: #FFFFFF\"> <pad></span><span style=\"background-color: #FFFFFF\"> <pad></span><span style=\"background-color: #FFFFFF\"> <pad></span><span style=\"background-color: #FFFFFF\"> <pad></span><br><br>"
     },
     "metadata": {},
     "execution_count": 11
    }
   ],
   "source": [
    "index = 61  # 出力させたいデータ\n",
    "html_output = mk_html(index, batch, preds, normlized_weights_1,\n",
    "                      normlized_weights_2, TEXT)  # HTML作成\n",
    "HTML(html_output)  # HTML形式で出力"
   ]
  },
  {
   "cell_type": "code",
   "execution_count": null,
   "metadata": {},
   "outputs": [],
   "source": []
  }
 ]
}