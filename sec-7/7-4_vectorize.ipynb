{
 "metadata": {
  "language_info": {
   "codemirror_mode": {
    "name": "ipython",
    "version": 3
   },
   "file_extension": ".py",
   "mimetype": "text/x-python",
   "name": "python",
   "nbconvert_exporter": "python",
   "pygments_lexer": "ipython3",
   "version": "3.6.12-final"
  },
  "orig_nbformat": 2,
  "kernelspec": {
   "name": "python3",
   "display_name": "Python 3.6.12 64-bit ('pytorch_p36': conda)",
   "metadata": {
    "interpreter": {
     "hash": "b32c976f4cff9f05e2fcc2f59241d4b3454b6c3c855c347bb189d25082248dc6"
    }
   }
  }
 },
 "nbformat": 4,
 "nbformat_minor": 2,
 "cells": [
  {
   "source": [
    "# word2vec, fastTextで日本語学習済みモデルを使用する方法"
   ],
   "cell_type": "markdown",
   "metadata": {}
  },
  {
   "source": [
    "## word2vec"
   ],
   "cell_type": "markdown",
   "metadata": {}
  },
  {
   "cell_type": "code",
   "execution_count": 1,
   "metadata": {},
   "outputs": [],
   "source": [
    "# 7-2と一緒\n",
    "import MeCab\n",
    "\n",
    "m_t = MeCab.Tagger('-Ochasen -d /usr/lib/x86_64-linux-gnu/mecab/dic/mecab-ipadic-neologd')\n",
    "\n",
    "def tokenizer_mecab(text):\n",
    "    text = m_t.parse(text)  # これでスペースで単語が区切られる\n",
    "    ret = text.strip().split()  # スペース部分で区切ったリストに変換\n",
    "    return ret\n",
    "\n",
    "# 前処理として正規化をする関数を定義\n",
    "import re\n",
    "def preprocessing_text(text):\n",
    "    # 改行、半角スペース、全角スペースを削除\n",
    "    text = re.sub('\\r', '', text)\n",
    "    text = re.sub('\\n', '', text)\n",
    "    text = re.sub('　', '', text)\n",
    "    text = re.sub(' ', '', text)\n",
    "\n",
    "    # 数字文字の一律「0」化\n",
    "    text = re.sub(r'[0-9 ０-９]', '0', text)  # 数字\n",
    "\n",
    "    return text\n",
    "\n",
    "\n",
    "# 前処理とJanomeの単語分割を合わせた関数を定義する\n",
    "def tokenizer_with_preprocessing(text):\n",
    "    text = preprocessing_text(text)  # 前処理の正規化\n",
    "    ret = tokenizer_mecab(text)  # Mecabの単語分割\n",
    "\n",
    "    return ret"
   ]
  },
  {
   "cell_type": "code",
   "execution_count": 2,
   "metadata": {},
   "outputs": [],
   "source": [
    "import torchtext\n",
    "\n",
    "# tsvやcsvデータを読み込んだときに、読み込んだ内容に対して行う処理を定義します\n",
    "# 文章とラベルの両方に用意します\n",
    "\n",
    "max_length = 25\n",
    "TEXT = torchtext.data.Field(sequential=True, tokenize=tokenizer_with_preprocessing,\n",
    "                            use_vocab=True, lower=True, include_lengths=True, batch_first=True, fix_length=max_length)\n",
    "LABEL = torchtext.data.Field(sequential=False, use_vocab=False)\n",
    "\n",
    "\n",
    "# フォルダ「data」から各tsvファイルを読み込みます\n",
    "train_ds, val_ds, test_ds = torchtext.data.TabularDataset.splits(\n",
    "    path='./data/', train='text_train.tsv',\n",
    "    validation='text_val.tsv', test='text_test.tsv', format='tsv',\n",
    "    fields=[('Text', TEXT), ('Label', LABEL)])"
   ]
  },
  {
   "cell_type": "code",
   "execution_count": 3,
   "metadata": {},
   "outputs": [
    {
     "output_type": "stream",
     "name": "stderr",
     "text": [
      "ipykernel_launcher:7: DeprecationWarning: Call to deprecated `wv` (Attribute will be removed in 4.0.0, use self instead).\n"
     ]
    }
   ],
   "source": [
    "from gensim.models import KeyedVectors\n",
    "# 一度gensimライブラリで読み込んで、word2vecのformatで保存する\n",
    "model = KeyedVectors.load_word2vec_format(\n",
    "    './data/entity_vector/entity_vector.model.bin', binary=True)\n",
    "\n",
    "# 保存（時間がかかります、10分弱）\n",
    "model.wv.save_word2vec_format('./data/japanese_word2vec_vectors.vec')"
   ]
  },
  {
   "cell_type": "code",
   "execution_count": 4,
   "metadata": {},
   "outputs": [
    {
     "output_type": "stream",
     "name": "stdout",
     "text": [
      "1単語を表現する次元数： 200\n単語数： 1015474\n"
     ]
    }
   ],
   "source": [
    "from torchtext.vocab import Vectors\n",
    "\n",
    "japanese_word2vec_vectors = Vectors(\n",
    "    name='./data/japanese_word2vec_vectors.vec')\n",
    "\n",
    "# 単語ベクトルの中身を確認します\n",
    "print(\"1単語を表現する次元数：\", japanese_word2vec_vectors.dim)\n",
    "print(\"単語数：\", len(japanese_word2vec_vectors.itos))"
   ]
  },
  {
   "cell_type": "code",
   "execution_count": 5,
   "metadata": {},
   "outputs": [
    {
     "output_type": "stream",
     "name": "stdout",
     "text": [
      "torch.Size([123, 200])\n"
     ]
    },
    {
     "output_type": "execute_result",
     "data": {
      "text/plain": [
       "tensor([[0., 0., 0.,  ..., 0., 0., 0.],\n",
       "        [0., 0., 0.,  ..., 0., 0., 0.],\n",
       "        [0., 0., 0.,  ..., 0., 0., 0.],\n",
       "        ...,\n",
       "        [0., 0., 0.,  ..., 0., 0., 0.],\n",
       "        [0., 0., 0.,  ..., 0., 0., 0.],\n",
       "        [0., 0., 0.,  ..., 0., 0., 0.]])"
      ]
     },
     "metadata": {},
     "execution_count": 5
    }
   ],
   "source": [
    "TEXT.build_vocab(train_ds, vectors=japanese_word2vec_vectors, min_freq=1)\n",
    "\n",
    "# ボキャブラリーのベクトルを確認\n",
    "print(TEXT.vocab.vectors.shape)  # 49個の単語が200次元のベクトルで表現\n",
    "TEXT.vocab.vectors"
   ]
  },
  {
   "cell_type": "code",
   "execution_count": 6,
   "metadata": {},
   "outputs": [
    {
     "output_type": "execute_result",
     "data": {
      "text/plain": [
       "defaultdict(<bound method Vocab._default_unk_index of <torchtext.vocab.Vocab object at 0x7f8234940d68>>,\n",
       "            {'<unk>': 0,\n",
       "             '<pad>': 1,\n",
       "             '名詞-一般': 2,\n",
       "             '。': 3,\n",
       "             'と': 4,\n",
       "             '助詞-格助詞-一般': 5,\n",
       "             '、': 6,\n",
       "             '助動詞': 7,\n",
       "             'の': 8,\n",
       "             '基本形': 9,\n",
       "             '文章': 10,\n",
       "             'が': 11,\n",
       "             'を': 12,\n",
       "             '動詞-自立': 13,\n",
       "             '名詞-サ変接続': 14,\n",
       "             '連用形': 15,\n",
       "             'いる': 16,\n",
       "             'する': 17,\n",
       "             'ます': 18,\n",
       "             'ト': 19,\n",
       "             '助詞-並立助詞': 20,\n",
       "             'eos': 21,\n",
       "             'か': 22,\n",
       "             'だ': 23,\n",
       "             'て': 24,\n",
       "             'な': 25,\n",
       "             'サ変・スル': 26,\n",
       "             'ナ': 27,\n",
       "             'ノ': 28,\n",
       "             'ブンショウ': 29,\n",
       "             '体言接続': 30,\n",
       "             '分類': 31,\n",
       "             '本章': 32,\n",
       "             '特殊・ダ': 33,\n",
       "             '記号-句点': 34,\n",
       "             '評価': 35,\n",
       "             '0': 36,\n",
       "             'し': 37,\n",
       "             'ガ': 38,\n",
       "             'クラス': 39,\n",
       "             'シ': 40,\n",
       "             'ネガティブ': 41,\n",
       "             'ポジティブ': 42,\n",
       "             'モデル': 43,\n",
       "             'レビュー': 44,\n",
       "             'ヲ': 45,\n",
       "             '一段': 46,\n",
       "             '名詞-形容動詞語幹': 47,\n",
       "             '特殊・マス': 48,\n",
       "             '記号-読点': 49,\n",
       "             'から': 50,\n",
       "             'その': 51,\n",
       "             'た': 52,\n",
       "             'で': 53,\n",
       "             'です': 54,\n",
       "             'に': 55,\n",
       "             'に対して': 56,\n",
       "             'は': 57,\n",
       "             'イル': 58,\n",
       "             'カ': 59,\n",
       "             'テ': 60,\n",
       "             'ヒョウカ': 61,\n",
       "             'ブンルイ': 62,\n",
       "             'ホンショウ': 63,\n",
       "             'マス': 64,\n",
       "             '値': 65,\n",
       "             '助詞-副助詞／並立助詞／終助詞': 66,\n",
       "             '助詞-接続助詞': 67,\n",
       "             '動詞-非自立': 68,\n",
       "             '名詞-固有名詞-一般': 69,\n",
       "             '名詞-非自立-一般': 70,\n",
       "             '商品': 71,\n",
       "             '女性': 72,\n",
       "             '女王': 73,\n",
       "             '好き': 74,\n",
       "             '姫': 75,\n",
       "             '構築': 76,\n",
       "             '機械学習': 77,\n",
       "             '王': 78,\n",
       "             '王子': 79,\n",
       "             '男性': 80,\n",
       "             '短い': 81,\n",
       "             '自然言語処理': 82,\n",
       "             'い': 83,\n",
       "             'まし': 84,\n",
       "             'イ': 85,\n",
       "             'オウ': 86,\n",
       "             'オウジ': 87,\n",
       "             'カラ': 88,\n",
       "             'キカイガクシュウ': 89,\n",
       "             'コウチク': 90,\n",
       "             'シゼンゲンゴショリ': 91,\n",
       "             'ショウヒン': 92,\n",
       "             'ジョオウ': 93,\n",
       "             'ジョセイ': 94,\n",
       "             'スキ': 95,\n",
       "             'スル': 96,\n",
       "             'ソノ': 97,\n",
       "             'タ': 98,\n",
       "             'ダンセイ': 99,\n",
       "             'チ': 100,\n",
       "             'デ': 101,\n",
       "             'デス': 102,\n",
       "             'トリクミ': 103,\n",
       "             'ニ': 104,\n",
       "             'ニタイシテ': 105,\n",
       "             'ハ': 106,\n",
       "             'ヒメ': 107,\n",
       "             'マシ': 108,\n",
       "             'ミジカイ': 109,\n",
       "             '五段・マ行': 110,\n",
       "             '助詞-係助詞': 111,\n",
       "             '助詞-格助詞-連語': 112,\n",
       "             '助詞-連体化': 113,\n",
       "             '取り組み': 114,\n",
       "             '取り組む': 115,\n",
       "             '名詞-接尾-一般': 116,\n",
       "             '名詞-数': 117,\n",
       "             '形容詞-自立': 118,\n",
       "             '形容詞・アウオ段': 119,\n",
       "             '特殊・タ': 120,\n",
       "             '特殊・デス': 121,\n",
       "             '連体詞': 122})"
      ]
     },
     "metadata": {},
     "execution_count": 6
    }
   ],
   "source": [
    "TEXT.vocab.stoi"
   ]
  },
  {
   "cell_type": "code",
   "execution_count": 7,
   "metadata": {},
   "outputs": [
    {
     "output_type": "stream",
     "name": "stdout",
     "text": [
      "女王 tensor(0.3840)\n王 tensor(0.3669)\n王子 tensor(0.5489)\n機械学習 tensor(-0.1404)\n"
     ]
    }
   ],
   "source": [
    "'''\n",
    "    '女性': 72,\n",
    "    '女王': 73,\n",
    "    '好き': 74,\n",
    "    '姫': 75,\n",
    "    '構築': 76,\n",
    "    '機械学習': 77,\n",
    "    '王': 78,\n",
    "    '王子': 79,\n",
    "    '男性': 80,\n",
    "'''\n",
    "\n",
    "# 姫 - 女性 + 男性 のベクトルがどれと似ているのか確認\n",
    "import torch.nn.functional as F\n",
    "\n",
    "# 姫 - 女性 + 男性\n",
    "tensor_calc = TEXT.vocab.vectors[75] - \\\n",
    "    TEXT.vocab.vectors[72] + TEXT.vocab.vectors[80]\n",
    "\n",
    "# コサイン類似度を計算\n",
    "# dim=0 は0次元目で計算してくださいという指定\n",
    "print(\"女王\", F.cosine_similarity(tensor_calc, TEXT.vocab.vectors[73], dim=0))\n",
    "print(\"王\", F.cosine_similarity(tensor_calc, TEXT.vocab.vectors[78], dim=0))\n",
    "print(\"王子\", F.cosine_similarity(tensor_calc, TEXT.vocab.vectors[79], dim=0))\n",
    "print(\"機械学習\", F.cosine_similarity(tensor_calc, TEXT.vocab.vectors[77], dim=0))"
   ]
  },
  {
   "source": [
    "## fastText"
   ],
   "cell_type": "markdown",
   "metadata": {}
  },
  {
   "cell_type": "code",
   "execution_count": 8,
   "metadata": {},
   "outputs": [
    {
     "output_type": "stream",
     "name": "stdout",
     "text": [
      "1単語を表現する次元数： 300\n単語数： 351122\n"
     ]
    }
   ],
   "source": [
    "from torchtext.vocab import Vectors\n",
    "\n",
    "japanese_fasttext_vectors = Vectors(name='./data/vector_neologd/model.vec')\n",
    "                              \n",
    "# 単語ベクトルの中身を確認します\n",
    "print(\"1単語を表現する次元数：\", japanese_fasttext_vectors.dim)\n",
    "print(\"単語数：\", len(japanese_fasttext_vectors.itos))"
   ]
  },
  {
   "cell_type": "code",
   "execution_count": 9,
   "metadata": {},
   "outputs": [
    {
     "output_type": "stream",
     "name": "stdout",
     "text": [
      "torch.Size([123, 300])\n"
     ]
    },
    {
     "output_type": "execute_result",
     "data": {
      "text/plain": [
       "defaultdict(<bound method Vocab._default_unk_index of <torchtext.vocab.Vocab object at 0x7f8227ebe898>>,\n",
       "            {'<unk>': 0,\n",
       "             '<pad>': 1,\n",
       "             '名詞-一般': 2,\n",
       "             '。': 3,\n",
       "             'と': 4,\n",
       "             '助詞-格助詞-一般': 5,\n",
       "             '、': 6,\n",
       "             '助動詞': 7,\n",
       "             'の': 8,\n",
       "             '基本形': 9,\n",
       "             '文章': 10,\n",
       "             'が': 11,\n",
       "             'を': 12,\n",
       "             '動詞-自立': 13,\n",
       "             '名詞-サ変接続': 14,\n",
       "             '連用形': 15,\n",
       "             'いる': 16,\n",
       "             'する': 17,\n",
       "             'ます': 18,\n",
       "             'ト': 19,\n",
       "             '助詞-並立助詞': 20,\n",
       "             'eos': 21,\n",
       "             'か': 22,\n",
       "             'だ': 23,\n",
       "             'て': 24,\n",
       "             'な': 25,\n",
       "             'サ変・スル': 26,\n",
       "             'ナ': 27,\n",
       "             'ノ': 28,\n",
       "             'ブンショウ': 29,\n",
       "             '体言接続': 30,\n",
       "             '分類': 31,\n",
       "             '本章': 32,\n",
       "             '特殊・ダ': 33,\n",
       "             '記号-句点': 34,\n",
       "             '評価': 35,\n",
       "             '0': 36,\n",
       "             'し': 37,\n",
       "             'ガ': 38,\n",
       "             'クラス': 39,\n",
       "             'シ': 40,\n",
       "             'ネガティブ': 41,\n",
       "             'ポジティブ': 42,\n",
       "             'モデル': 43,\n",
       "             'レビュー': 44,\n",
       "             'ヲ': 45,\n",
       "             '一段': 46,\n",
       "             '名詞-形容動詞語幹': 47,\n",
       "             '特殊・マス': 48,\n",
       "             '記号-読点': 49,\n",
       "             'から': 50,\n",
       "             'その': 51,\n",
       "             'た': 52,\n",
       "             'で': 53,\n",
       "             'です': 54,\n",
       "             'に': 55,\n",
       "             'に対して': 56,\n",
       "             'は': 57,\n",
       "             'イル': 58,\n",
       "             'カ': 59,\n",
       "             'テ': 60,\n",
       "             'ヒョウカ': 61,\n",
       "             'ブンルイ': 62,\n",
       "             'ホンショウ': 63,\n",
       "             'マス': 64,\n",
       "             '値': 65,\n",
       "             '助詞-副助詞／並立助詞／終助詞': 66,\n",
       "             '助詞-接続助詞': 67,\n",
       "             '動詞-非自立': 68,\n",
       "             '名詞-固有名詞-一般': 69,\n",
       "             '名詞-非自立-一般': 70,\n",
       "             '商品': 71,\n",
       "             '女性': 72,\n",
       "             '女王': 73,\n",
       "             '好き': 74,\n",
       "             '姫': 75,\n",
       "             '構築': 76,\n",
       "             '機械学習': 77,\n",
       "             '王': 78,\n",
       "             '王子': 79,\n",
       "             '男性': 80,\n",
       "             '短い': 81,\n",
       "             '自然言語処理': 82,\n",
       "             'い': 83,\n",
       "             'まし': 84,\n",
       "             'イ': 85,\n",
       "             'オウ': 86,\n",
       "             'オウジ': 87,\n",
       "             'カラ': 88,\n",
       "             'キカイガクシュウ': 89,\n",
       "             'コウチク': 90,\n",
       "             'シゼンゲンゴショリ': 91,\n",
       "             'ショウヒン': 92,\n",
       "             'ジョオウ': 93,\n",
       "             'ジョセイ': 94,\n",
       "             'スキ': 95,\n",
       "             'スル': 96,\n",
       "             'ソノ': 97,\n",
       "             'タ': 98,\n",
       "             'ダンセイ': 99,\n",
       "             'チ': 100,\n",
       "             'デ': 101,\n",
       "             'デス': 102,\n",
       "             'トリクミ': 103,\n",
       "             'ニ': 104,\n",
       "             'ニタイシテ': 105,\n",
       "             'ハ': 106,\n",
       "             'ヒメ': 107,\n",
       "             'マシ': 108,\n",
       "             'ミジカイ': 109,\n",
       "             '五段・マ行': 110,\n",
       "             '助詞-係助詞': 111,\n",
       "             '助詞-格助詞-連語': 112,\n",
       "             '助詞-連体化': 113,\n",
       "             '取り組み': 114,\n",
       "             '取り組む': 115,\n",
       "             '名詞-接尾-一般': 116,\n",
       "             '名詞-数': 117,\n",
       "             '形容詞-自立': 118,\n",
       "             '形容詞・アウオ段': 119,\n",
       "             '特殊・タ': 120,\n",
       "             '特殊・デス': 121,\n",
       "             '連体詞': 122})"
      ]
     },
     "metadata": {},
     "execution_count": 9
    }
   ],
   "source": [
    "# ベクトル化したバージョンのボキャブラリーを作成\n",
    "TEXT.build_vocab(train_ds, vectors=japanese_fasttext_vectors, min_freq=1)\n",
    "\n",
    "# ボキャブラリーのベクトルを確認\n",
    "print(TEXT.vocab.vectors.shape)  # 52個の単語が300次元のベクトルで表現\n",
    "TEXT.vocab.vectors\n",
    "\n",
    "# ボキャブラリーの単語の順番を確認\n",
    "TEXT.vocab.stoi"
   ]
  },
  {
   "cell_type": "code",
   "execution_count": 10,
   "metadata": {},
   "outputs": [
    {
     "output_type": "stream",
     "name": "stdout",
     "text": [
      "女王 tensor(0.3650)\n王 tensor(0.3461)\n王子 tensor(0.5531)\n機械学習 tensor(0.0952)\n"
     ]
    }
   ],
   "source": [
    "# 姫 - 女性 + 男性 のベクトルがどれと似ているのか確認\n",
    "import torch.nn.functional as F\n",
    "\n",
    "# 姫 - 女性 + 男性\n",
    "tensor_calc = TEXT.vocab.vectors[75] - \\\n",
    "    TEXT.vocab.vectors[72] + TEXT.vocab.vectors[80]\n",
    "\n",
    "# コサイン類似度を計算\n",
    "# dim=0 は0次元目で計算してくださいという指定\n",
    "print(\"女王\", F.cosine_similarity(tensor_calc, TEXT.vocab.vectors[73], dim=0))\n",
    "print(\"王\", F.cosine_similarity(tensor_calc, TEXT.vocab.vectors[78], dim=0))\n",
    "print(\"王子\", F.cosine_similarity(tensor_calc, TEXT.vocab.vectors[79], dim=0))\n",
    "print(\"機械学習\", F.cosine_similarity(tensor_calc, TEXT.vocab.vectors[77], dim=0))"
   ]
  },
  {
   "cell_type": "code",
   "execution_count": null,
   "metadata": {},
   "outputs": [],
   "source": []
  }
 ]
}